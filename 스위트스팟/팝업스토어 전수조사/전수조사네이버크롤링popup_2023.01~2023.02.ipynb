{
 "cells": [
  {
   "cell_type": "code",
   "execution_count": null,
   "metadata": {},
   "outputs": [],
   "source": [
    "# pip install selenium beautifulsoup4\n",
    "\n",
    "\n"
   ]
  },
  {
   "cell_type": "code",
   "execution_count": null,
   "metadata": {},
   "outputs": [],
   "source": [
    "# pip install -U selenium\n",
    "\n",
    "# !pip install webdriver-manager\n"
   ]
  },
  {
   "cell_type": "code",
   "execution_count": null,
   "metadata": {},
   "outputs": [],
   "source": [
    "from selenium import webdriver\n",
    "from selenium.webdriver.common.by import By\n",
    "from selenium.webdriver.common.keys import Keys\n",
    "from selenium.webdriver.chrome.service import Service\n",
    "from selenium.webdriver.chrome.options import Options\n",
    "from bs4 import BeautifulSoup\n",
    "import time\n",
    "import pandas as pd\n",
    "\n"
   ]
  },
  {
   "cell_type": "code",
   "execution_count": null,
   "metadata": {},
   "outputs": [],
   "source": [
    "#셀레니움 설정\n",
    "options = webdriver.ChromeOptions()\n",
    "# options.add_argument('--headless')\n",
    "options.add_argument('--no-sandbox')\n",
    "options.add_argument('--disable-dev-shm-usage')\n",
    "\n"
   ]
  },
  {
   "cell_type": "code",
   "execution_count": null,
   "metadata": {},
   "outputs": [],
   "source": [
    "# ChromeDriver 경로 설정\n",
    "chromedriver_path = \"/Users/leereh/Documents/문서 - sweetspot의 MacBook Pro/chromedriver-mac-x64/chromedriver\"\n",
    "service = Service(chromedriver_path)  # 실제 ChromeDriver 경로로 수정\n",
    "driver = webdriver.Chrome(service=service, options=options)\n"
   ]
  },
  {
   "cell_type": "code",
   "execution_count": null,
   "metadata": {},
   "outputs": [],
   "source": [
    "base_url = \"https://search.naver.com/search.naver?where=news&query={}&sm=tab_opt&sort=0&photo=0&field=0&pd=3&ds=2023.01.01&de=2023.02.28\"\n",
    "keywords = ['팝업스토어']\n",
    "results = []\n",
    "\n",
    "\n",
    "for keyword in keywords: \n",
    "    url = base_url.format(keyword)\n",
    "    driver.get(url)\n",
    "    time.sleep(2)\n",
    "\n",
    "    last_height = driver.execute_script(\"return document.body.scrollHeight\")\n",
    "\n",
    "    while True:\n",
    "        # 스크롤 내리기\n",
    "        driver.find_element(By.TAG_NAME , \"body\").send_keys(Keys.END)\n",
    "        time.sleep(2)\n",
    "        \n",
    "        new_height = driver.execute_script(\"return document.body.scrollHeight\")\n",
    "\n",
    "        if new_height == last_height:\n",
    "            break\n",
    "        last_height = new_height\n",
    "\n",
    "\n",
    "        \n",
    "        articles = driver.find_elements(By.XPATH, '//*[@class=\"news_tit\"]')\n",
    "        for article in articles :\n",
    "            title = article.get_attribute('title')\n",
    "            link = article.get_attribute('href')\n",
    "            results.append((title, link, keyword))\n",
    "# print(results)\n",
    "\n",
    "\n",
    "# \n",
    "driver.quit()\n",
    "print(f'크롤링된 기사 수  : {len(results)}')\n",
    "\n",
    "\n",
    "df = pd.DataFrame(results, columns = ['Title', 'Link','Keyword'])\n",
    "\n",
    "df.drop_duplicates(subset=['Title'], inplace = True)\n",
    "\n",
    "df.to_csv('all_titles.csv',encoding='utf-8-sig', index=False)\n",
    "\n",
    "\n",
    "print(f\"크롤링 된 타이틀이 all_titles.csv 파일에 저장되었습니다.\")\n",
    "\n"
   ]
  },
  {
   "cell_type": "markdown",
   "metadata": {},
   "source": []
  },
  {
   "cell_type": "code",
   "execution_count": null,
   "metadata": {},
   "outputs": [],
   "source": [
    "df"
   ]
  },
  {
   "cell_type": "code",
   "execution_count": null,
   "metadata": {},
   "outputs": [],
   "source": []
  }
 ],
 "metadata": {
  "kernelspec": {
   "display_name": "ssp_ws",
   "language": "python",
   "name": "python3"
  },
  "language_info": {
   "codemirror_mode": {
    "name": "ipython",
    "version": 3
   },
   "file_extension": ".py",
   "mimetype": "text/x-python",
   "name": "python",
   "nbconvert_exporter": "python",
   "pygments_lexer": "ipython3",
   "version": "3.11.5"
  }
 },
 "nbformat": 4,
 "nbformat_minor": 2
}
