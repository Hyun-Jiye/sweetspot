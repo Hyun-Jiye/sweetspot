{
 "cells": [
  {
   "cell_type": "markdown",
   "metadata": {},
   "source": [
    "## 약수 점포수 변화량 "
   ]
  },
  {
   "cell_type": "code",
   "execution_count": 1,
   "metadata": {},
   "outputs": [],
   "source": [
    "import pandas as pd "
   ]
  },
  {
   "cell_type": "code",
   "execution_count": 5,
   "metadata": {},
   "outputs": [],
   "source": [
    "store_data = pd.read_csv(\"./약수(점포-행정동).csv\", index_col=False, encoding = 'utf-8-sig')"
   ]
  },
  {
   "cell_type": "code",
   "execution_count": 7,
   "metadata": {},
   "outputs": [
    {
     "data": {
      "text/html": [
       "<div>\n",
       "<style scoped>\n",
       "    .dataframe tbody tr th:only-of-type {\n",
       "        vertical-align: middle;\n",
       "    }\n",
       "\n",
       "    .dataframe tbody tr th {\n",
       "        vertical-align: top;\n",
       "    }\n",
       "\n",
       "    .dataframe thead th {\n",
       "        text-align: right;\n",
       "    }\n",
       "</style>\n",
       "<table border=\"1\" class=\"dataframe\">\n",
       "  <thead>\n",
       "    <tr style=\"text-align: right;\">\n",
       "      <th></th>\n",
       "      <th>기준_년분기_코드</th>\n",
       "      <th>행정동_코드</th>\n",
       "      <th>행정동_코드_명</th>\n",
       "      <th>서비스_업종_코드</th>\n",
       "      <th>서비스_업종_코드_명</th>\n",
       "      <th>점포_수</th>\n",
       "      <th>유사_업종_점포_수</th>\n",
       "      <th>개업_율</th>\n",
       "      <th>개업_점포_수</th>\n",
       "      <th>폐업_률</th>\n",
       "      <th>폐업_점포_수</th>\n",
       "      <th>프랜차이즈_점포_수</th>\n",
       "    </tr>\n",
       "  </thead>\n",
       "  <tbody>\n",
       "    <tr>\n",
       "      <th>0</th>\n",
       "      <td>20191</td>\n",
       "      <td>11140635</td>\n",
       "      <td>약수동</td>\n",
       "      <td>CS100001</td>\n",
       "      <td>한식음식점</td>\n",
       "      <td>62</td>\n",
       "      <td>65</td>\n",
       "      <td>3</td>\n",
       "      <td>2</td>\n",
       "      <td>0</td>\n",
       "      <td>0</td>\n",
       "      <td>3</td>\n",
       "    </tr>\n",
       "    <tr>\n",
       "      <th>1</th>\n",
       "      <td>20191</td>\n",
       "      <td>11140635</td>\n",
       "      <td>약수동</td>\n",
       "      <td>CS100003</td>\n",
       "      <td>일식음식점</td>\n",
       "      <td>4</td>\n",
       "      <td>5</td>\n",
       "      <td>0</td>\n",
       "      <td>0</td>\n",
       "      <td>0</td>\n",
       "      <td>0</td>\n",
       "      <td>1</td>\n",
       "    </tr>\n",
       "    <tr>\n",
       "      <th>2</th>\n",
       "      <td>20191</td>\n",
       "      <td>11140635</td>\n",
       "      <td>약수동</td>\n",
       "      <td>CS100004</td>\n",
       "      <td>양식음식점</td>\n",
       "      <td>2</td>\n",
       "      <td>3</td>\n",
       "      <td>0</td>\n",
       "      <td>0</td>\n",
       "      <td>0</td>\n",
       "      <td>0</td>\n",
       "      <td>1</td>\n",
       "    </tr>\n",
       "    <tr>\n",
       "      <th>3</th>\n",
       "      <td>20191</td>\n",
       "      <td>11140635</td>\n",
       "      <td>약수동</td>\n",
       "      <td>CS100005</td>\n",
       "      <td>제과점</td>\n",
       "      <td>2</td>\n",
       "      <td>7</td>\n",
       "      <td>14</td>\n",
       "      <td>1</td>\n",
       "      <td>14</td>\n",
       "      <td>1</td>\n",
       "      <td>5</td>\n",
       "    </tr>\n",
       "    <tr>\n",
       "      <th>4</th>\n",
       "      <td>20191</td>\n",
       "      <td>11140635</td>\n",
       "      <td>약수동</td>\n",
       "      <td>CS100006</td>\n",
       "      <td>패스트푸드점</td>\n",
       "      <td>0</td>\n",
       "      <td>2</td>\n",
       "      <td>0</td>\n",
       "      <td>0</td>\n",
       "      <td>50</td>\n",
       "      <td>1</td>\n",
       "      <td>2</td>\n",
       "    </tr>\n",
       "  </tbody>\n",
       "</table>\n",
       "</div>"
      ],
      "text/plain": [
       "   기준_년분기_코드    행정동_코드 행정동_코드_명 서비스_업종_코드 서비스_업종_코드_명  점포_수  유사_업종_점포_수  개업_율  \\\n",
       "0      20191  11140635      약수동  CS100001       한식음식점    62          65     3   \n",
       "1      20191  11140635      약수동  CS100003       일식음식점     4           5     0   \n",
       "2      20191  11140635      약수동  CS100004       양식음식점     2           3     0   \n",
       "3      20191  11140635      약수동  CS100005         제과점     2           7    14   \n",
       "4      20191  11140635      약수동  CS100006      패스트푸드점     0           2     0   \n",
       "\n",
       "   개업_점포_수  폐업_률  폐업_점포_수  프랜차이즈_점포_수  \n",
       "0        2     0        0           3  \n",
       "1        0     0        0           1  \n",
       "2        0     0        0           1  \n",
       "3        1    14        1           5  \n",
       "4        0    50        1           2  "
      ]
     },
     "execution_count": 7,
     "metadata": {},
     "output_type": "execute_result"
    }
   ],
   "source": [
    "store_data.head()"
   ]
  },
  {
   "cell_type": "markdown",
   "metadata": {},
   "source": [
    "\n",
    "#### 점포의 종류는 상관없음 : 모든 점포 수의 추이를 알고 싶은 것이기 때문에 \n",
    "#### 기준_년분기_코드 기준으로 점포 수 추이를 바라보자 "
   ]
  },
  {
   "cell_type": "code",
   "execution_count": 11,
   "metadata": {},
   "outputs": [
    {
     "data": {
      "text/plain": [
       "기준_년분기_코드\n",
       "20191    568\n",
       "20192    574\n",
       "20193    586\n",
       "20194    591\n",
       "20201    597\n",
       "20202    607\n",
       "20203    623\n",
       "20204    616\n",
       "20211    627\n",
       "20212    641\n",
       "20213    648\n",
       "20214    672\n",
       "20221    668\n",
       "20222    669\n",
       "20223    669\n",
       "20224    674\n",
       "20231    663\n",
       "20232    664\n",
       "20233    671\n",
       "20234    669\n",
       "Name: 점포_수, dtype: int64"
      ]
     },
     "execution_count": 11,
     "metadata": {},
     "output_type": "execute_result"
    }
   ],
   "source": [
    "store_data.groupby('기준_년분기_코드')['점포_수'].sum()"
   ]
  },
  {
   "cell_type": "code",
   "execution_count": 13,
   "metadata": {},
   "outputs": [],
   "source": [
    "#한글 폰트 깨짐 방지 \n",
    "plt.rcParams['font.family'] = 'AppleGothic'\n",
    "plt.rcParams['axes.unicode_minus'] = False"
   ]
  },
  {
   "cell_type": "code",
   "execution_count": 15,
   "metadata": {},
   "outputs": [
    {
     "data": {
      "image/png": "[encoded data removed]",
      "text/plain": [
       "<Figure size 1000x600 with 1 Axes>"
      ]
     },
     "metadata": {},
     "output_type": "display_data"
    }
   ],
   "source": [
    "import matplotlib.pyplot as plt \n",
    "\n",
    "total_store = store_data.groupby('기준_년분기_코드')['점포_수'].sum() \n",
    "\n",
    "plt.figure(figsize = (10,6))\n",
    "plt.plot(total_store.index , total_store.values, marker = 'o', linestyle = '-')\n",
    "plt.title('기준 년분기별 약수동 점포 수 추이')\n",
    "plt.xlabel('기준 년분기')\n",
    "plt.ylabel('점포 수 총합')\n",
    "plt.grid(True)\n",
    "plt.show()"
   ]
  },
  {
   "cell_type": "code",
   "execution_count": null,
   "metadata": {},
   "outputs": [],
   "source": []
  }
 ],
 "metadata": {
  "kernelspec": {
   "display_name": "ssp_ws",
   "language": "python",
   "name": "python3"
  },
  "language_info": {
   "codemirror_mode": {
    "name": "ipython",
    "version": 3
   },
   "file_extension": ".py",
   "mimetype": "text/x-python",
   "name": "python",
   "nbconvert_exporter": "python",
   "pygments_lexer": "ipython3",
   "version": "3.11.5"
  }
 },
 "nbformat": 4,
 "nbformat_minor": 2
}
