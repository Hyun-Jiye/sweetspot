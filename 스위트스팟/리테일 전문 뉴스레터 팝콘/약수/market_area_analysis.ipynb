{
 "cells": [
  {
   "cell_type": "code",
   "execution_count": 5,
   "metadata": {},
   "outputs": [],
   "source": [
    "import pandas as pd\n",
    "\n",
    "df = pd.read_csv('./상권별 유동인구 수.csv',encoding='utf-8')"
   ]
  },
  {
   "cell_type": "code",
   "execution_count": 6,
   "metadata": {},
   "outputs": [
    {
     "data": {
      "text/html": [
       "<div>\n",
       "<style scoped>\n",
       "    .dataframe tbody tr th:only-of-type {\n",
       "        vertical-align: middle;\n",
       "    }\n",
       "\n",
       "    .dataframe tbody tr th {\n",
       "        vertical-align: top;\n",
       "    }\n",
       "\n",
       "    .dataframe thead th {\n",
       "        text-align: right;\n",
       "    }\n",
       "</style>\n",
       "<table border=\"1\" class=\"dataframe\">\n",
       "  <thead>\n",
       "    <tr style=\"text-align: right;\">\n",
       "      <th></th>\n",
       "      <th>기준_년분기_코드</th>\n",
       "      <th>상권_코드_명</th>\n",
       "      <th>총_유동인구_수</th>\n",
       "      <th>MZ세대_유동인구_수</th>\n",
       "      <th>지역 구분</th>\n",
       "    </tr>\n",
       "  </thead>\n",
       "  <tbody>\n",
       "    <tr>\n",
       "      <th>0</th>\n",
       "      <td>20234</td>\n",
       "      <td>백학시장</td>\n",
       "      <td>785223</td>\n",
       "      <td>317433</td>\n",
       "      <td>외곽</td>\n",
       "    </tr>\n",
       "    <tr>\n",
       "      <th>1</th>\n",
       "      <td>20234</td>\n",
       "      <td>서울중앙시장(신중앙시장)</td>\n",
       "      <td>2019863</td>\n",
       "      <td>855042</td>\n",
       "      <td>외곽</td>\n",
       "    </tr>\n",
       "    <tr>\n",
       "      <th>2</th>\n",
       "      <td>20234</td>\n",
       "      <td>약수시장</td>\n",
       "      <td>414647</td>\n",
       "      <td>183437</td>\n",
       "      <td>외곽</td>\n",
       "    </tr>\n",
       "    <tr>\n",
       "      <th>3</th>\n",
       "      <td>20234</td>\n",
       "      <td>신당역</td>\n",
       "      <td>2314714</td>\n",
       "      <td>975907</td>\n",
       "      <td>중심</td>\n",
       "    </tr>\n",
       "    <tr>\n",
       "      <th>4</th>\n",
       "      <td>20234</td>\n",
       "      <td>약수역</td>\n",
       "      <td>1040170</td>\n",
       "      <td>477059</td>\n",
       "      <td>중심</td>\n",
       "    </tr>\n",
       "    <tr>\n",
       "      <th>...</th>\n",
       "      <td>...</td>\n",
       "      <td>...</td>\n",
       "      <td>...</td>\n",
       "      <td>...</td>\n",
       "      <td>...</td>\n",
       "    </tr>\n",
       "    <tr>\n",
       "      <th>255</th>\n",
       "      <td>20191</td>\n",
       "      <td>약수역 7번</td>\n",
       "      <td>245184</td>\n",
       "      <td>99318</td>\n",
       "      <td>중심</td>\n",
       "    </tr>\n",
       "    <tr>\n",
       "      <th>256</th>\n",
       "      <td>20191</td>\n",
       "      <td>장충단 고개</td>\n",
       "      <td>1116723</td>\n",
       "      <td>521428</td>\n",
       "      <td>외곽</td>\n",
       "    </tr>\n",
       "    <tr>\n",
       "      <th>257</th>\n",
       "      <td>20191</td>\n",
       "      <td>장충동주민센터</td>\n",
       "      <td>823588</td>\n",
       "      <td>370446</td>\n",
       "      <td>외곽</td>\n",
       "    </tr>\n",
       "    <tr>\n",
       "      <th>258</th>\n",
       "      <td>20191</td>\n",
       "      <td>다산성곽길</td>\n",
       "      <td>438570</td>\n",
       "      <td>198004</td>\n",
       "      <td>외곽</td>\n",
       "    </tr>\n",
       "    <tr>\n",
       "      <th>259</th>\n",
       "      <td>20191</td>\n",
       "      <td>버티고개</td>\n",
       "      <td>775487</td>\n",
       "      <td>342808</td>\n",
       "      <td>외곽</td>\n",
       "    </tr>\n",
       "  </tbody>\n",
       "</table>\n",
       "<p>260 rows × 5 columns</p>\n",
       "</div>"
      ],
      "text/plain": [
       "     기준_년분기_코드        상권_코드_명  총_유동인구_수  MZ세대_유동인구_수 지역 구분\n",
       "0        20234           백학시장    785223       317433    외곽\n",
       "1        20234  서울중앙시장(신중앙시장)   2019863       855042    외곽\n",
       "2        20234           약수시장    414647       183437    외곽\n",
       "3        20234            신당역   2314714       975907    중심\n",
       "4        20234            약수역   1040170       477059    중심\n",
       "..         ...            ...       ...          ...   ...\n",
       "255      20191         약수역 7번    245184        99318    중심\n",
       "256      20191         장충단 고개   1116723       521428    외곽\n",
       "257      20191        장충동주민센터    823588       370446    외곽\n",
       "258      20191          다산성곽길    438570       198004    외곽\n",
       "259      20191           버티고개    775487       342808    외곽\n",
       "\n",
       "[260 rows x 5 columns]"
      ]
     },
     "execution_count": 6,
     "metadata": {},
     "output_type": "execute_result"
    }
   ],
   "source": [
    "df"
   ]
  },
  {
   "cell_type": "code",
   "execution_count": 7,
   "metadata": {},
   "outputs": [],
   "source": [
    "df.to_csv('./상권별 유동인구 수.csv',index=False ,encoding ='utf-8-sig')\n",
    "              "
   ]
  },
  {
   "cell_type": "markdown",
   "metadata": {},
   "source": [
    "####  T-TEST 와 ANOVA 기법 사용 목적 \n",
    "\n",
    "#### 1. T-TEST : 두 그룹간의 평균 차이를 표준 오차로 나눈 값으로 , 데이터에서 관찰된 효과의 크기를 나타내는 통계 분석 기법입니다. \n",
    "#### 2. ANOVA : 세 개 이상의 그룹 간의 평균 차이를 비교하여 유의미한 차이가 있는지 검정하는 통계 분석 기법입니다.\n",
    "\n",
    "\n",
    "목적 \n",
    "- 외곽과 중심 상권의 평균 차이 검정.\n",
    "- 개별 상권들의 시간(분기)에 따른 변화 검정. \n",
    "\n",
    "\n",
    "\n"
   ]
  },
  {
   "cell_type": "code",
   "execution_count": 21,
   "metadata": {},
   "outputs": [
    {
     "name": "stdout",
     "output_type": "stream",
     "text": [
      "t 통계량 : -5.5167669119072995, p-value : 8.38868490629179e-08\n",
      "외곽 평균 382452.5875 < 중심평균 554667.39\n"
     ]
    }
   ],
   "source": [
    "# t-test \n",
    "# 외곽 vs 상권 비교 \n",
    "from scipy.stats import ttest_ind\n",
    "outer_data = df[df['지역 구분'] == '외곽']['MZ세대_유동인구_수']\n",
    "center_data = df[df['지역 구분'] == '중심']['MZ세대_유동인구_수']\n",
    "\n",
    "t_stat, p_value = ttest_ind(outer_data, center_data)\n",
    "\n",
    "# 각 그룳의 평균 계산 \n",
    "outer_mean = outer_data.mean()\n",
    "center_mean = center_data.mean()\n",
    "\n",
    "\n",
    "print(f't 통계량 : {t_stat}, p-value : {p_value}')\n",
    "\n",
    "exp = ''\n",
    "if outer_mean > center_mean : \n",
    "    exp = '>'\n",
    "else : \n",
    "    exp = '<'\n",
    "\n",
    "    \n",
    "print(f'외곽 평균 {outer_mean} {exp} 중심평균 {center_mean}')"
   ]
  },
  {
   "cell_type": "markdown",
   "metadata": {},
   "source": [
    "외곽 상권과 중심 상권의 유동인구 수 차이가 통계적으로 유의함을 가르키고 있음. -> 유의미한 차이가 있다고 결론을 내릴 수 있다. "
   ]
  },
  {
   "cell_type": "markdown",
   "metadata": {},
   "source": [
    " anova 분석을 통해, 상권 밀집 중심의 변화 여부를 확인해본다.  \n",
    " 1. 그룹화해보지 않고 각각의 개별 상권을 분석 해본 결과 "
   ]
  },
  {
   "cell_type": "code",
   "execution_count": 10,
   "metadata": {},
   "outputs": [],
   "source": [
    "gr_df = df.groupby('기준_년분기_코드')['MZ세대_유동인구_수'].apply(list)\n"
   ]
  },
  {
   "cell_type": "code",
   "execution_count": 11,
   "metadata": {},
   "outputs": [
    {
     "name": "stdout",
     "output_type": "stream",
     "text": [
      "아노바 통계량 : 0.055440807905695014, p-value : 0.99999999833788\n"
     ]
    }
   ],
   "source": [
    "from scipy.stats import f_oneway\n",
    "\n",
    "anova_stat, anova_p_value = f_oneway(*gr_df)\n",
    "\n",
    "print(f'아노바 통계량 : {anova_stat}, p-value : {anova_p_value}')\n"
   ]
  },
  {
   "cell_type": "code",
   "execution_count": 12,
   "metadata": {},
   "outputs": [
    {
     "name": "stdout",
     "output_type": "stream",
     "text": [
      "외곽 상권의 아노바 통계량 : 0.03001442029410329, p-value : 0.9999999999923751\n"
     ]
    }
   ],
   "source": [
    "outer_data = df[df['지역 구분'] == '외곽'].groupby('기준_년분기_코드')['MZ세대_유동인구_수'].apply(list)\n",
    "\n",
    "ot_anova_data_stat , ot_anova_p_value = f_oneway(*outer_data)\n",
    "\n",
    "print(f'외곽 상권의 아노바 통계량 : {ot_anova_data_stat}, p-value : {ot_anova_p_value}')\n"
   ]
  },
  {
   "cell_type": "code",
   "execution_count": 13,
   "metadata": {},
   "outputs": [
    {
     "name": "stdout",
     "output_type": "stream",
     "text": [
      "중심 상권의 아노바 통계량 : 0.05650877982940991, p-value : 0.9999999966181518\n"
     ]
    }
   ],
   "source": [
    "center_data = df[df['지역 구분'] == '중심'].groupby('기준_년분기_코드')['MZ세대_유동인구_수'].apply(list)\n",
    "\n",
    "ct_anova_data_stat , ct_anova_p_value = f_oneway(*center_data)\n",
    "\n",
    "print(f'중심 상권의 아노바 통계량 : {ct_anova_data_stat}, p-value : {ct_anova_p_value}')"
   ]
  },
  {
   "cell_type": "markdown",
   "metadata": {},
   "source": [
    "#### 결론 \n",
    "상권의 차이는 있지만 상권 중심이 변화하고 있다는 가설은 기각할 수 있다. \n"
   ]
  },
  {
   "cell_type": "markdown",
   "metadata": {},
   "source": []
  }
 ],
 "metadata": {
  "kernelspec": {
   "display_name": "ssp_ws",
   "language": "python",
   "name": "python3"
  },
  "language_info": {
   "codemirror_mode": {
    "name": "ipython",
    "version": 3
   },
   "file_extension": ".py",
   "mimetype": "text/x-python",
   "name": "python",
   "nbconvert_exporter": "python",
   "pygments_lexer": "ipython3",
   "version": "3.11.5"
  }
 },
 "nbformat": 4,
 "nbformat_minor": 2
}
