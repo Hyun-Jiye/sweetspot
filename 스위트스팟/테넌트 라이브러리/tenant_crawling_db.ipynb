{
 "cells": [
  {
   "cell_type": "code",
   "execution_count": 25,
   "id": "3bdae1ed-cb92-409b-a9d7-32e76fbdc30f",
   "metadata": {},
   "outputs": [],
   "source": [
    "import pandas as pd\n",
    "import numpy as np\n",
    "import matplotlib.pyplot as plt"
   ]
  },
  {
   "cell_type": "code",
   "execution_count": 23,
   "id": "2fb57b44-d65f-4b3e-a350-761976e2207c",
   "metadata": {},
   "outputs": [
    {
     "name": "stdout",
     "output_type": "stream",
     "text": [
      "Collecting matplotlib\n",
      "  Downloading matplotlib-3.8.1-cp311-cp311-macosx_10_12_x86_64.whl.metadata (5.8 kB)\n",
      "Collecting contourpy>=1.0.1 (from matplotlib)\n",
      "  Downloading contourpy-1.2.0-cp311-cp311-macosx_10_9_x86_64.whl.metadata (5.8 kB)\n",
      "Collecting cycler>=0.10 (from matplotlib)\n",
      "  Downloading cycler-0.12.1-py3-none-any.whl.metadata (3.8 kB)\n",
      "Collecting fonttools>=4.22.0 (from matplotlib)\n",
      "  Downloading fonttools-4.44.0-cp311-cp311-macosx_10_9_x86_64.whl.metadata (153 kB)\n",
      "\u001b[2K     \u001b[90m━━━━━━━━━━━━━━━━━━━━━━━━━━━━━━━━━━━━━━━\u001b[0m \u001b[32m153.6/153.6 kB\u001b[0m \u001b[31m1.1 MB/s\u001b[0m eta \u001b[36m0:00:00\u001b[0ma \u001b[36m0:00:01\u001b[0m\n",
      "\u001b[?25hCollecting kiwisolver>=1.3.1 (from matplotlib)\n",
      "  Downloading kiwisolver-1.4.5-cp311-cp311-macosx_10_9_x86_64.whl.metadata (6.4 kB)\n",
      "Requirement already satisfied: numpy<2,>=1.21 in /Users/leereh/anaconda3/envs/ssp_ws/lib/python3.11/site-packages (from matplotlib) (1.26.1)\n",
      "Requirement already satisfied: packaging>=20.0 in /Users/leereh/anaconda3/envs/ssp_ws/lib/python3.11/site-packages (from matplotlib) (23.2)\n",
      "Collecting pillow>=8 (from matplotlib)\n",
      "  Downloading Pillow-10.1.0-cp311-cp311-macosx_10_10_x86_64.whl.metadata (9.5 kB)\n",
      "Collecting pyparsing>=2.3.1 (from matplotlib)\n",
      "  Downloading pyparsing-3.1.1-py3-none-any.whl.metadata (5.1 kB)\n",
      "Requirement already satisfied: python-dateutil>=2.7 in /Users/leereh/anaconda3/envs/ssp_ws/lib/python3.11/site-packages (from matplotlib) (2.8.2)\n",
      "Requirement already satisfied: six>=1.5 in /Users/leereh/anaconda3/envs/ssp_ws/lib/python3.11/site-packages (from python-dateutil>=2.7->matplotlib) (1.16.0)\n",
      "Downloading matplotlib-3.8.1-cp311-cp311-macosx_10_12_x86_64.whl (7.6 MB)\n",
      "\u001b[2K   \u001b[90m━━━━━━━━━━━━━━━━━━━━━━━━━━━━━━━━━━━━━━━━\u001b[0m \u001b[32m7.6/7.6 MB\u001b[0m \u001b[31m1.5 MB/s\u001b[0m eta \u001b[36m0:00:00\u001b[0m00:01\u001b[0m00:01\u001b[0m\n",
      "\u001b[?25hDownloading contourpy-1.2.0-cp311-cp311-macosx_10_9_x86_64.whl (258 kB)\n",
      "\u001b[2K   \u001b[90m━━━━━━━━━━━━━━━━━━━━━━━━━━━━━━━━━━━━━━━━\u001b[0m \u001b[32m258.2/258.2 kB\u001b[0m \u001b[31m1.0 MB/s\u001b[0m eta \u001b[36m0:00:00\u001b[0ma \u001b[36m0:00:01\u001b[0m\n",
      "\u001b[?25hDownloading cycler-0.12.1-py3-none-any.whl (8.3 kB)\n",
      "Downloading fonttools-4.44.0-cp311-cp311-macosx_10_9_x86_64.whl (2.3 MB)\n",
      "\u001b[2K   \u001b[90m━━━━━━━━━━━━━━━━━━━━━━━━━━━━━━━━━━━━━━━━\u001b[0m \u001b[32m2.3/2.3 MB\u001b[0m \u001b[31m1.1 MB/s\u001b[0m eta \u001b[36m0:00:00\u001b[0m00:01\u001b[0m00:01\u001b[0m0m\n",
      "\u001b[?25hDownloading kiwisolver-1.4.5-cp311-cp311-macosx_10_9_x86_64.whl (68 kB)\n",
      "\u001b[2K   \u001b[90m━━━━━━━━━━━━━━━━━━━━━━━━━━━━━━━━━━━━━━━━\u001b[0m \u001b[32m68.2/68.2 kB\u001b[0m \u001b[31m983.5 kB/s\u001b[0m eta \u001b[36m0:00:00\u001b[0m\u001b[36m0:00:01\u001b[0m\n",
      "\u001b[?25hDownloading Pillow-10.1.0-cp311-cp311-macosx_10_10_x86_64.whl (3.5 MB)\n",
      "\u001b[2K   \u001b[90m━━━━━━━━━━━━━━━━━━━━━━━━━━━━━━━━━━━━━━━━\u001b[0m \u001b[32m3.5/3.5 MB\u001b[0m \u001b[31m1.2 MB/s\u001b[0m eta \u001b[36m0:00:00\u001b[0m00:01\u001b[0m00:01\u001b[0m0m\n",
      "\u001b[?25hDownloading pyparsing-3.1.1-py3-none-any.whl (103 kB)\n",
      "\u001b[2K   \u001b[90m━━━━━━━━━━━━━━━━━━━━━━━━━━━━━━━━━━━━━━━\u001b[0m \u001b[32m103.1/103.1 kB\u001b[0m \u001b[31m995.5 kB/s\u001b[0m eta \u001b[36m0:00:00\u001b[0m\u001b[36m0:00:01\u001b[0m\n",
      "\u001b[?25hInstalling collected packages: pyparsing, pillow, kiwisolver, fonttools, cycler, contourpy, matplotlib\n",
      "Successfully installed contourpy-1.2.0 cycler-0.12.1 fonttools-4.44.0 kiwisolver-1.4.5 matplotlib-3.8.1 pillow-10.1.0 pyparsing-3.1.1\n",
      "Note: you may need to restart the kernel to use updated packages.\n"
     ]
    }
   ],
   "source": [
    "pip install matplotlib"
   ]
  },
  {
   "cell_type": "code",
   "execution_count": 3,
   "id": "520471a5-03db-4635-8e7a-e2dbdc743620",
   "metadata": {},
   "outputs": [],
   "source": [
    "df = pd.read_csv('./tenant_sector_info_202311071416.csv', encoding = 'utf-8')"
   ]
  },
  {
   "cell_type": "code",
   "execution_count": 7,
   "id": "94a1f80e-e8e3-4b0d-bef7-290530c785f8",
   "metadata": {},
   "outputs": [
    {
     "data": {
      "text/plain": [
       "0              족발, 보쌈\n",
       "1            찜, 탕, 찌개\n",
       "2     돈까스, 회, 일식, 해산물\n",
       "3                  피자\n",
       "4              고기, 구이\n",
       "5                  한식\n",
       "6                  양식\n",
       "7                  치킨\n",
       "8                  중식\n",
       "9                 아시안\n",
       "10          백반, 죽, 국수\n",
       "11                도시락\n",
       "12                 분식\n",
       "13            카페, 디저트\n",
       "14              패스트푸드\n",
       "15                 채식\n",
       "16                 주류\n",
       "Name: name, dtype: object"
      ]
     },
     "execution_count": 7,
     "metadata": {},
     "output_type": "execute_result"
    }
   ],
   "source": [
    "df['name']"
   ]
  },
  {
   "cell_type": "code",
   "execution_count": 8,
   "id": "e85005d4-d30d-459d-a8cc-033a6bff1d3d",
   "metadata": {},
   "outputs": [],
   "source": [
    "tenant_bn = pd.read_csv('./tenant_202311071434.csv', encoding = 'utf-8')\n"
   ]
  },
  {
   "cell_type": "code",
   "execution_count": 12,
   "id": "fb8ae1cf-6214-4796-ac19-8f2533b9d7b3",
   "metadata": {},
   "outputs": [
    {
     "data": {
      "text/plain": [
       "array(['카페,디저트', '족발,보쌈', '양식', '곱창,막창,양', '이탈리아음식', '케이크전문', '일식당',\n",
       "       '소고기구이', '한식', '카페', nan, '베이커리', '육류,고기요리', '베이글', '와인',\n",
       "       '일식튀김,꼬치', '햄버거', '닭갈비', '와플', '돈가스', '다이어트,샐러드', '베트남음식', '떡볶이',\n",
       "       '종합패션', '브런치', '중식\\r', '일본식라면', '종합분식', '초밥,롤', '돼지고기구이', '분식',\n",
       "       '요리주점', '샤브샤브', '칼국수,만두', '거궁', '양꼬치', '스테이크,립', '초콜릿전문점', '고레카레',\n",
       "       '곰탕,설렁탕', '우동,소바', '프랜차이즈본사', '클럽', '나이트클럽', '핫도그', '찜닭',\n",
       "       '스파게티,파스타전문', '태국음식', '찌개,전골', '치킨,닭강정', '오징어요리', '오리요리', '기업',\n",
       "       '도시락,컵밥', '포장마차', '맥주,호프', '카레', '멕시코,남미음식', '중식당', '샌드위치', '만두',\n",
       "       '테이크아웃커피', '국수', '냉면', '쌈밥', '두부요리', '막국수', '아시아음식', '떡,한과', '피자',\n",
       "       '무한장어', '정육식당', '해물,생선요리', '양갈비', '바나프레소', '바닷가재요리', '전통,민속주점',\n",
       "       '백숙,삼계탕', '순대,순댓국', '백반,가정식', '국밥', '죽', '아이스크림', '과일,주스전문점',\n",
       "       '푸드코트', '이자카야', '호떡', '빙수', '생선회', '비빔밥', '한정식', '반찬가게', '스페인음식',\n",
       "       '신복관', '신의주부대찌개', '패션', '게요리', '인도음식', '차', '테마카페', '아파트', '감자탕',\n",
       "       '덮밥', '일공공키친', '일도씨닭갈비', '잇또라멘', '장금수부대찌개', '한식뷔페', '주꾸미요리',\n",
       "       '장소대여', '오니기리', '패밀리레스토랑', '일식,초밥뷔페', '바(BAR)', '토스트', '도넛',\n",
       "       '경영컨설팅', '건강관리', '아쿠아리움', '건어물', '미술관', '인터넷상거래', '차,커피', '주류',\n",
       "       '떡카페', '종합도소매', '식료품제조', '궁궐', 'JVL부대찌개', '일식당\\r', '김밥', '테마파크',\n",
       "       '보드카페', '닭볶음탕', '미스엔불닭발', '오뎅,꼬치', '미용실', '퓨전음식', '고기원칙', '갈비탕',\n",
       "       '달떡볶이', '닭요리', '음료', '딤섬,중식만두', '일품향', '문어부인삼교비', '안경할머니곱창',\n",
       "       '자연식빵', '해장국', '미스터빠삭', '보리밥', '33떡볶이', '아귀찜,해물찜', '낙지요리', '전복요리',\n",
       "       '민혁이네외국포차', '식료품', '게이트나인', '주택', '101번지남산돈까스', '장어,먹장어요리',\n",
       "       '슈퍼,마트', '건축자재,용품', '해산물뷔페', '복합문화공간', '성형외과', '프랑스음식', '예식장',\n",
       "       '정육점', '소프트웨어개발', '과자,사탕,초코렛', '방탈출카페', '브런치카페', '인테리어디자인',\n",
       "       '우유,유제품', '홍차전문점', '여성의류', '밀도', '남성정장', '플라워카페', '조개요리', '중식',\n",
       "       '편의점', '술집', '닭발', '애견카페', '호두과자', '갤러리카페', '달볶이', '뷔페', '영화관',\n",
       "       '북카페', '복어요리', '피부,체형관리', '스포츠,오락', '오락,레저용품', '마라탕', '서점',\n",
       "       '실내체육관', '야식', '4성급', '2성급', '전시관', '고기뷔페', '웨딩컨설팅,플래너', '자전거',\n",
       "       '사주카페', '육류가공,제조', '키즈카페,실내놀이터', '꽃집,꽃배달', '블루보틀', '만화방', '전,빈대떡',\n",
       "       '3성급', '공방', '워터파크', '만년닭강정', '도서,음반,문구', '갤러리,화랑', '기사식당',\n",
       "       '종합생활용품', '옥외,전시광고', '공연,연극시설', '힐링카페', '기타숙박업', '헬스장', '서오릉피자',\n",
       "       '요가,명상', '동물카페', '셀프,대여스튜디오', '화덕고깃간', '천연화장품', '스터디카페'],\n",
       "      dtype=object)"
      ]
     },
     "execution_count": 12,
     "metadata": {},
     "output_type": "execute_result"
    }
   ],
   "source": [
    "tenant_bn['nv_sector'].unique()"
   ]
  },
  {
   "cell_type": "markdown",
   "id": "c534d84f-1a28-4b7b-80bb-4c90f3a8e603",
   "metadata": {},
   "source": []
  },
  {
   "cell_type": "code",
   "execution_count": null,
   "id": "cf6a94d5-5a9e-480a-9ffd-30b87be6d528",
   "metadata": {},
   "outputs": [],
   "source": []
  }
 ],
 "metadata": {
  "kernelspec": {
   "display_name": "Python 3 (ipykernel)",
   "language": "python",
   "name": "python3"
  },
  "language_info": {
   "codemirror_mode": {
    "name": "ipython",
    "version": 3
   },
   "file_extension": ".py",
   "mimetype": "text/x-python",
   "name": "python",
   "nbconvert_exporter": "python",
   "pygments_lexer": "ipython3",
   "version": "3.11.5"
  }
 },
 "nbformat": 4,
 "nbformat_minor": 5
}
