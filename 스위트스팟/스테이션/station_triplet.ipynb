{
 "cells": [
  {
   "cell_type": "code",
   "execution_count": 41,
   "metadata": {},
   "outputs": [],
   "source": [
    "import pandas as pd \n",
    "\n",
    "data = pd.read_csv('./visitor.csv')\n"
   ]
  },
  {
   "cell_type": "code",
   "execution_count": 8,
   "metadata": {},
   "outputs": [
    {
     "name": "stdout",
     "output_type": "stream",
     "text": [
      "<class 'pandas.core.frame.DataFrame'>\n",
      "RangeIndex: 15888 entries, 0 to 15887\n",
      "Data columns (total 7 columns):\n",
      " #   Column  Non-Null Count  Dtype  \n",
      "---  ------  --------------  -----  \n",
      " 0   날짜      15888 non-null  object \n",
      " 1   요일      15888 non-null  object \n",
      " 2   시간      15888 non-null  int64  \n",
      " 3   성별      13081 non-null  object \n",
      " 4   연령      13081 non-null  float64\n",
      " 5   유형      15888 non-null  object \n",
      " 6   방문수     15888 non-null  int64  \n",
      "dtypes: float64(1), int64(2), object(4)\n",
      "memory usage: 869.0+ KB\n"
     ]
    }
   ],
   "source": [
    "data.info()"
   ]
  },
  {
   "cell_type": "code",
   "execution_count": 13,
   "metadata": {},
   "outputs": [],
   "source": [
    "data['날짜']=pd.to_datetime(data['날짜'], format = '%Y-%m-%d')"
   ]
  },
  {
   "cell_type": "code",
   "execution_count": 14,
   "metadata": {},
   "outputs": [
    {
     "name": "stdout",
     "output_type": "stream",
     "text": [
      "<class 'pandas.core.frame.DataFrame'>\n",
      "RangeIndex: 15888 entries, 0 to 15887\n",
      "Data columns (total 7 columns):\n",
      " #   Column  Non-Null Count  Dtype         \n",
      "---  ------  --------------  -----         \n",
      " 0   날짜      15888 non-null  datetime64[ns]\n",
      " 1   요일      15888 non-null  object        \n",
      " 2   시간      15888 non-null  int64         \n",
      " 3   성별      13081 non-null  object        \n",
      " 4   연령      13081 non-null  float64       \n",
      " 5   유형      15888 non-null  object        \n",
      " 6   방문수     15888 non-null  int64         \n",
      "dtypes: datetime64[ns](1), float64(1), int64(2), object(3)\n",
      "memory usage: 869.0+ KB\n"
     ]
    }
   ],
   "source": [
    "data.info()"
   ]
  },
  {
   "cell_type": "code",
   "execution_count": 15,
   "metadata": {},
   "outputs": [
    {
     "data": {
      "text/html": [
       "<div>\n",
       "<style scoped>\n",
       "    .dataframe tbody tr th:only-of-type {\n",
       "        vertical-align: middle;\n",
       "    }\n",
       "\n",
       "    .dataframe tbody tr th {\n",
       "        vertical-align: top;\n",
       "    }\n",
       "\n",
       "    .dataframe thead th {\n",
       "        text-align: right;\n",
       "    }\n",
       "</style>\n",
       "<table border=\"1\" class=\"dataframe\">\n",
       "  <thead>\n",
       "    <tr style=\"text-align: right;\">\n",
       "      <th></th>\n",
       "      <th>날짜</th>\n",
       "      <th>요일</th>\n",
       "      <th>시간</th>\n",
       "      <th>성별</th>\n",
       "      <th>연령</th>\n",
       "      <th>유형</th>\n",
       "      <th>방문수</th>\n",
       "    </tr>\n",
       "  </thead>\n",
       "  <tbody>\n",
       "    <tr>\n",
       "      <th>0</th>\n",
       "      <td>2023-08-28</td>\n",
       "      <td>월요일</td>\n",
       "      <td>10</td>\n",
       "      <td>NaN</td>\n",
       "      <td>NaN</td>\n",
       "      <td>pass</td>\n",
       "      <td>993</td>\n",
       "    </tr>\n",
       "    <tr>\n",
       "      <th>1</th>\n",
       "      <td>2023-08-28</td>\n",
       "      <td>월요일</td>\n",
       "      <td>11</td>\n",
       "      <td>NaN</td>\n",
       "      <td>NaN</td>\n",
       "      <td>pass</td>\n",
       "      <td>1927</td>\n",
       "    </tr>\n",
       "    <tr>\n",
       "      <th>2</th>\n",
       "      <td>2023-08-28</td>\n",
       "      <td>월요일</td>\n",
       "      <td>12</td>\n",
       "      <td>NaN</td>\n",
       "      <td>NaN</td>\n",
       "      <td>pass</td>\n",
       "      <td>2601</td>\n",
       "    </tr>\n",
       "    <tr>\n",
       "      <th>3</th>\n",
       "      <td>2023-08-28</td>\n",
       "      <td>월요일</td>\n",
       "      <td>13</td>\n",
       "      <td>NaN</td>\n",
       "      <td>NaN</td>\n",
       "      <td>pass</td>\n",
       "      <td>2616</td>\n",
       "    </tr>\n",
       "    <tr>\n",
       "      <th>4</th>\n",
       "      <td>2023-08-28</td>\n",
       "      <td>월요일</td>\n",
       "      <td>14</td>\n",
       "      <td>NaN</td>\n",
       "      <td>NaN</td>\n",
       "      <td>pass</td>\n",
       "      <td>2495</td>\n",
       "    </tr>\n",
       "  </tbody>\n",
       "</table>\n",
       "</div>"
      ],
      "text/plain": [
       "          날짜   요일  시간   성별  연령    유형   방문수\n",
       "0 2023-08-28  월요일  10  NaN NaN  pass   993\n",
       "1 2023-08-28  월요일  11  NaN NaN  pass  1927\n",
       "2 2023-08-28  월요일  12  NaN NaN  pass  2601\n",
       "3 2023-08-28  월요일  13  NaN NaN  pass  2616\n",
       "4 2023-08-28  월요일  14  NaN NaN  pass  2495"
      ]
     },
     "execution_count": 15,
     "metadata": {},
     "output_type": "execute_result"
    }
   ],
   "source": [
    "data.head()"
   ]
  },
  {
   "cell_type": "code",
   "execution_count": 19,
   "metadata": {},
   "outputs": [
    {
     "data": {
      "text/plain": [
       "날짜        0\n",
       "요일        0\n",
       "시간        0\n",
       "성별     2807\n",
       "연령     2807\n",
       "유형        0\n",
       "방문수       0\n",
       "dtype: int64"
      ]
     },
     "execution_count": 19,
     "metadata": {},
     "output_type": "execute_result"
    }
   ],
   "source": [
    "data.isnull().sum()\n"
   ]
  },
  {
   "cell_type": "code",
   "execution_count": 21,
   "metadata": {},
   "outputs": [],
   "source": [
    "data['is_weekend'] = data['날짜'].dt.dayofweek > 4 \n",
    "#5,6 : 주말"
   ]
  },
  {
   "cell_type": "code",
   "execution_count": 25,
   "metadata": {},
   "outputs": [
    {
     "data": {
      "text/html": [
       "<div>\n",
       "<style scoped>\n",
       "    .dataframe tbody tr th:only-of-type {\n",
       "        vertical-align: middle;\n",
       "    }\n",
       "\n",
       "    .dataframe tbody tr th {\n",
       "        vertical-align: top;\n",
       "    }\n",
       "\n",
       "    .dataframe thead th {\n",
       "        text-align: right;\n",
       "    }\n",
       "</style>\n",
       "<table border=\"1\" class=\"dataframe\">\n",
       "  <thead>\n",
       "    <tr style=\"text-align: right;\">\n",
       "      <th></th>\n",
       "      <th>날짜</th>\n",
       "      <th>요일</th>\n",
       "      <th>시간</th>\n",
       "      <th>성별</th>\n",
       "      <th>연령</th>\n",
       "      <th>유형</th>\n",
       "      <th>방문수</th>\n",
       "      <th>is_weekend</th>\n",
       "    </tr>\n",
       "  </thead>\n",
       "  <tbody>\n",
       "    <tr>\n",
       "      <th>82</th>\n",
       "      <td>2023-09-02</td>\n",
       "      <td>토요일</td>\n",
       "      <td>10</td>\n",
       "      <td>NaN</td>\n",
       "      <td>NaN</td>\n",
       "      <td>pass</td>\n",
       "      <td>822</td>\n",
       "      <td>True</td>\n",
       "    </tr>\n",
       "    <tr>\n",
       "      <th>83</th>\n",
       "      <td>2023-09-02</td>\n",
       "      <td>토요일</td>\n",
       "      <td>11</td>\n",
       "      <td>NaN</td>\n",
       "      <td>NaN</td>\n",
       "      <td>pass</td>\n",
       "      <td>1768</td>\n",
       "      <td>True</td>\n",
       "    </tr>\n",
       "    <tr>\n",
       "      <th>84</th>\n",
       "      <td>2023-09-02</td>\n",
       "      <td>토요일</td>\n",
       "      <td>12</td>\n",
       "      <td>NaN</td>\n",
       "      <td>NaN</td>\n",
       "      <td>pass</td>\n",
       "      <td>2370</td>\n",
       "      <td>True</td>\n",
       "    </tr>\n",
       "    <tr>\n",
       "      <th>85</th>\n",
       "      <td>2023-09-02</td>\n",
       "      <td>토요일</td>\n",
       "      <td>13</td>\n",
       "      <td>NaN</td>\n",
       "      <td>NaN</td>\n",
       "      <td>pass</td>\n",
       "      <td>3831</td>\n",
       "      <td>True</td>\n",
       "    </tr>\n",
       "    <tr>\n",
       "      <th>86</th>\n",
       "      <td>2023-09-02</td>\n",
       "      <td>토요일</td>\n",
       "      <td>14</td>\n",
       "      <td>NaN</td>\n",
       "      <td>NaN</td>\n",
       "      <td>pass</td>\n",
       "      <td>4185</td>\n",
       "      <td>True</td>\n",
       "    </tr>\n",
       "    <tr>\n",
       "      <th>...</th>\n",
       "      <td>...</td>\n",
       "      <td>...</td>\n",
       "      <td>...</td>\n",
       "      <td>...</td>\n",
       "      <td>...</td>\n",
       "      <td>...</td>\n",
       "      <td>...</td>\n",
       "      <td>...</td>\n",
       "    </tr>\n",
       "    <tr>\n",
       "      <th>15777</th>\n",
       "      <td>2024-03-31</td>\n",
       "      <td>일요일</td>\n",
       "      <td>21</td>\n",
       "      <td>female</td>\n",
       "      <td>40.0</td>\n",
       "      <td>not purchase</td>\n",
       "      <td>2</td>\n",
       "      <td>True</td>\n",
       "    </tr>\n",
       "    <tr>\n",
       "      <th>15778</th>\n",
       "      <td>2024-03-31</td>\n",
       "      <td>일요일</td>\n",
       "      <td>21</td>\n",
       "      <td>male</td>\n",
       "      <td>30.0</td>\n",
       "      <td>not purchase</td>\n",
       "      <td>1</td>\n",
       "      <td>True</td>\n",
       "    </tr>\n",
       "    <tr>\n",
       "      <th>15779</th>\n",
       "      <td>2024-03-31</td>\n",
       "      <td>일요일</td>\n",
       "      <td>21</td>\n",
       "      <td>unknown</td>\n",
       "      <td>-1.0</td>\n",
       "      <td>not purchase</td>\n",
       "      <td>2</td>\n",
       "      <td>True</td>\n",
       "    </tr>\n",
       "    <tr>\n",
       "      <th>15780</th>\n",
       "      <td>2024-03-31</td>\n",
       "      <td>일요일</td>\n",
       "      <td>21</td>\n",
       "      <td>unknown</td>\n",
       "      <td>-1.0</td>\n",
       "      <td>purchase</td>\n",
       "      <td>1</td>\n",
       "      <td>True</td>\n",
       "    </tr>\n",
       "    <tr>\n",
       "      <th>15781</th>\n",
       "      <td>2024-03-31</td>\n",
       "      <td>일요일</td>\n",
       "      <td>22</td>\n",
       "      <td>unknown</td>\n",
       "      <td>-1.0</td>\n",
       "      <td>not purchase</td>\n",
       "      <td>1</td>\n",
       "      <td>True</td>\n",
       "    </tr>\n",
       "  </tbody>\n",
       "</table>\n",
       "<p>5770 rows × 8 columns</p>\n",
       "</div>"
      ],
      "text/plain": [
       "              날짜   요일  시간       성별    연령            유형   방문수  is_weekend\n",
       "82    2023-09-02  토요일  10      NaN   NaN          pass   822        True\n",
       "83    2023-09-02  토요일  11      NaN   NaN          pass  1768        True\n",
       "84    2023-09-02  토요일  12      NaN   NaN          pass  2370        True\n",
       "85    2023-09-02  토요일  13      NaN   NaN          pass  3831        True\n",
       "86    2023-09-02  토요일  14      NaN   NaN          pass  4185        True\n",
       "...          ...  ...  ..      ...   ...           ...   ...         ...\n",
       "15777 2024-03-31  일요일  21   female  40.0  not purchase     2        True\n",
       "15778 2024-03-31  일요일  21     male  30.0  not purchase     1        True\n",
       "15779 2024-03-31  일요일  21  unknown  -1.0  not purchase     2        True\n",
       "15780 2024-03-31  일요일  21  unknown  -1.0      purchase     1        True\n",
       "15781 2024-03-31  일요일  22  unknown  -1.0  not purchase     1        True\n",
       "\n",
       "[5770 rows x 8 columns]"
      ]
     },
     "execution_count": 25,
     "metadata": {},
     "output_type": "execute_result"
    }
   ],
   "source": [
    "data[data['is_weekend'] == True]"
   ]
  },
  {
   "cell_type": "code",
   "execution_count": 26,
   "metadata": {},
   "outputs": [],
   "source": [
    "population_of_station = data.groupby('is_weekend')['방문수'].sum()"
   ]
  },
  {
   "cell_type": "code",
   "execution_count": 27,
   "metadata": {},
   "outputs": [
    {
     "data": {
      "text/plain": [
       "is_weekend\n",
       "False    1118225\n",
       "True      888991\n",
       "Name: 방문수, dtype: int64"
      ]
     },
     "execution_count": 27,
     "metadata": {},
     "output_type": "execute_result"
    }
   ],
   "source": [
    "population_of_station"
   ]
  },
  {
   "cell_type": "code",
   "execution_count": 28,
   "metadata": {},
   "outputs": [],
   "source": [
    "if population_of_station[False] == 0 or population_of_station[True] == 0 : \n",
    "    ratio = 'Undefined'\n",
    "else: \n",
    "    ratio = population_of_station[True] / population_of_station[False]\n",
    "\n",
    "\n",
    "\n",
    "\n"
   ]
  },
  {
   "cell_type": "code",
   "execution_count": null,
   "metadata": {},
   "outputs": [
    {
     "data": {
      "text/plain": [
       "0.7950019003331172"
      ]
     },
     "execution_count": 29,
     "metadata": {},
     "output_type": "execute_result"
    }
   ],
   "source": [
    "ratio"
   ]
  },
  {
   "cell_type": "code",
   "execution_count": 34,
   "metadata": {},
   "outputs": [],
   "source": [
    "import matplotlib.font_manager as fm \n",
    "\n",
    "\n",
    "font_path = '/System/Library/Fonts/Supplemental/AppleGothic.ttf'\n",
    "font_prop = fm.FontProperties(fname = font_path)\n",
    "plt.rcParams['font.family'] = font_prop.get_name()\n"
   ]
  },
  {
   "cell_type": "code",
   "execution_count": 35,
   "metadata": {},
   "outputs": [
    {
     "data": {
      "image/png": "[encoded data removed]",
      "text/plain": [
       "<Figure size 640x480 with 1 Axes>"
      ]
     },
     "metadata": {},
     "output_type": "display_data"
    }
   ],
   "source": [
    "import matplotlib.pyplot as plt \n",
    "population_of_station.plot(kind= 'bar')\n",
    "plt.title('주말 vs 평일 유동인구 비율')\n",
    "plt.xlabel('is weekend')\n",
    "plt.ylabel('유동인구(방문자수)')\n",
    "\n",
    "plt.show() "
   ]
  },
  {
   "cell_type": "code",
   "execution_count": 43,
   "metadata": {},
   "outputs": [],
   "source": [
    "data['날짜'] = pd.to_datetime(data['날짜'])"
   ]
  },
  {
   "cell_type": "code",
   "execution_count": 44,
   "metadata": {},
   "outputs": [],
   "source": [
    "data['day_of_week'] = data['날짜'].dt.day_of_week\n",
    "weekend_data = data[data['day_of_week'] >= 5]\n",
    "weekday_data = data[data['day_of_week'] < 5]\n",
    "\n"
   ]
  },
  {
   "cell_type": "code",
   "execution_count": 45,
   "metadata": {},
   "outputs": [
    {
     "data": {
      "text/html": [
       "<div>\n",
       "<style scoped>\n",
       "    .dataframe tbody tr th:only-of-type {\n",
       "        vertical-align: middle;\n",
       "    }\n",
       "\n",
       "    .dataframe tbody tr th {\n",
       "        vertical-align: top;\n",
       "    }\n",
       "\n",
       "    .dataframe thead th {\n",
       "        text-align: right;\n",
       "    }\n",
       "</style>\n",
       "<table border=\"1\" class=\"dataframe\">\n",
       "  <thead>\n",
       "    <tr style=\"text-align: right;\">\n",
       "      <th></th>\n",
       "      <th>날짜</th>\n",
       "      <th>요일</th>\n",
       "      <th>시간</th>\n",
       "      <th>성별</th>\n",
       "      <th>연령</th>\n",
       "      <th>유형</th>\n",
       "      <th>방문수</th>\n",
       "      <th>day_of_week</th>\n",
       "    </tr>\n",
       "  </thead>\n",
       "  <tbody>\n",
       "    <tr>\n",
       "      <th>0</th>\n",
       "      <td>2023-08-28</td>\n",
       "      <td>월요일</td>\n",
       "      <td>10</td>\n",
       "      <td>NaN</td>\n",
       "      <td>NaN</td>\n",
       "      <td>pass</td>\n",
       "      <td>993</td>\n",
       "      <td>0</td>\n",
       "    </tr>\n",
       "    <tr>\n",
       "      <th>1</th>\n",
       "      <td>2023-08-28</td>\n",
       "      <td>월요일</td>\n",
       "      <td>11</td>\n",
       "      <td>NaN</td>\n",
       "      <td>NaN</td>\n",
       "      <td>pass</td>\n",
       "      <td>1927</td>\n",
       "      <td>0</td>\n",
       "    </tr>\n",
       "    <tr>\n",
       "      <th>2</th>\n",
       "      <td>2023-08-28</td>\n",
       "      <td>월요일</td>\n",
       "      <td>12</td>\n",
       "      <td>NaN</td>\n",
       "      <td>NaN</td>\n",
       "      <td>pass</td>\n",
       "      <td>2601</td>\n",
       "      <td>0</td>\n",
       "    </tr>\n",
       "    <tr>\n",
       "      <th>3</th>\n",
       "      <td>2023-08-28</td>\n",
       "      <td>월요일</td>\n",
       "      <td>13</td>\n",
       "      <td>NaN</td>\n",
       "      <td>NaN</td>\n",
       "      <td>pass</td>\n",
       "      <td>2616</td>\n",
       "      <td>0</td>\n",
       "    </tr>\n",
       "    <tr>\n",
       "      <th>4</th>\n",
       "      <td>2023-08-28</td>\n",
       "      <td>월요일</td>\n",
       "      <td>14</td>\n",
       "      <td>NaN</td>\n",
       "      <td>NaN</td>\n",
       "      <td>pass</td>\n",
       "      <td>2495</td>\n",
       "      <td>0</td>\n",
       "    </tr>\n",
       "    <tr>\n",
       "      <th>...</th>\n",
       "      <td>...</td>\n",
       "      <td>...</td>\n",
       "      <td>...</td>\n",
       "      <td>...</td>\n",
       "      <td>...</td>\n",
       "      <td>...</td>\n",
       "      <td>...</td>\n",
       "      <td>...</td>\n",
       "    </tr>\n",
       "    <tr>\n",
       "      <th>15883</th>\n",
       "      <td>2024-04-01</td>\n",
       "      <td>월요일</td>\n",
       "      <td>21</td>\n",
       "      <td>female</td>\n",
       "      <td>20.0</td>\n",
       "      <td>not purchase</td>\n",
       "      <td>1</td>\n",
       "      <td>0</td>\n",
       "    </tr>\n",
       "    <tr>\n",
       "      <th>15884</th>\n",
       "      <td>2024-04-01</td>\n",
       "      <td>월요일</td>\n",
       "      <td>21</td>\n",
       "      <td>female</td>\n",
       "      <td>20.0</td>\n",
       "      <td>purchase</td>\n",
       "      <td>1</td>\n",
       "      <td>0</td>\n",
       "    </tr>\n",
       "    <tr>\n",
       "      <th>15885</th>\n",
       "      <td>2024-04-01</td>\n",
       "      <td>월요일</td>\n",
       "      <td>21</td>\n",
       "      <td>female</td>\n",
       "      <td>40.0</td>\n",
       "      <td>not purchase</td>\n",
       "      <td>1</td>\n",
       "      <td>0</td>\n",
       "    </tr>\n",
       "    <tr>\n",
       "      <th>15886</th>\n",
       "      <td>2024-04-01</td>\n",
       "      <td>월요일</td>\n",
       "      <td>21</td>\n",
       "      <td>male</td>\n",
       "      <td>20.0</td>\n",
       "      <td>not purchase</td>\n",
       "      <td>1</td>\n",
       "      <td>0</td>\n",
       "    </tr>\n",
       "    <tr>\n",
       "      <th>15887</th>\n",
       "      <td>2024-04-01</td>\n",
       "      <td>월요일</td>\n",
       "      <td>21</td>\n",
       "      <td>unknown</td>\n",
       "      <td>-1.0</td>\n",
       "      <td>not purchase</td>\n",
       "      <td>3</td>\n",
       "      <td>0</td>\n",
       "    </tr>\n",
       "  </tbody>\n",
       "</table>\n",
       "<p>15888 rows × 8 columns</p>\n",
       "</div>"
      ],
      "text/plain": [
       "              날짜   요일  시간       성별    연령            유형   방문수  day_of_week\n",
       "0     2023-08-28  월요일  10      NaN   NaN          pass   993            0\n",
       "1     2023-08-28  월요일  11      NaN   NaN          pass  1927            0\n",
       "2     2023-08-28  월요일  12      NaN   NaN          pass  2601            0\n",
       "3     2023-08-28  월요일  13      NaN   NaN          pass  2616            0\n",
       "4     2023-08-28  월요일  14      NaN   NaN          pass  2495            0\n",
       "...          ...  ...  ..      ...   ...           ...   ...          ...\n",
       "15883 2024-04-01  월요일  21   female  20.0  not purchase     1            0\n",
       "15884 2024-04-01  월요일  21   female  20.0      purchase     1            0\n",
       "15885 2024-04-01  월요일  21   female  40.0  not purchase     1            0\n",
       "15886 2024-04-01  월요일  21     male  20.0  not purchase     1            0\n",
       "15887 2024-04-01  월요일  21  unknown  -1.0  not purchase     3            0\n",
       "\n",
       "[15888 rows x 8 columns]"
      ]
     },
     "execution_count": 45,
     "metadata": {},
     "output_type": "execute_result"
    }
   ],
   "source": [
    "data"
   ]
  },
  {
   "cell_type": "code",
   "execution_count": 49,
   "metadata": {},
   "outputs": [
    {
     "name": "stdout",
     "output_type": "stream",
     "text": [
      "average_weekday_traffic : 110.51838307966001\n",
      "average_weekend_traffic : 154.07123050259966\n"
     ]
    }
   ],
   "source": [
    "average_weekend_traffic = weekend_data['방문수'].mean()\n",
    "average_weekday_traffic = weekday_data['방문수'].mean()\n",
    "\n",
    "print(f'average_weekday_traffic : {average_weekday_traffic}')\n",
    "print(f'average_weekend_traffic : {average_weekend_traffic}')"
   ]
  },
  {
   "cell_type": "code",
   "execution_count": 51,
   "metadata": {},
   "outputs": [
    {
     "data": {
      "image/png": "[encoded data removed]",
      "text/plain": [
       "<Figure size 800x800 with 1 Axes>"
      ]
     },
     "metadata": {},
     "output_type": "display_data"
    }
   ],
   "source": [
    "plt.figure(figsize = (8,8))\n",
    "plt.bar(['평일','주말'], [average_weekday_traffic,average_weekend_traffic],color = ['blue','green'])\n",
    "plt.ylabel('평균 유동인구수')\n",
    "plt.title('1년간의 평균 유동인구수 주말 vs 평일')\n",
    "plt.show()"
   ]
  },
  {
   "cell_type": "code",
   "execution_count": null,
   "metadata": {},
   "outputs": [],
   "source": []
  }
 ],
 "metadata": {
  "kernelspec": {
   "display_name": "ssp_ws",
   "language": "python",
   "name": "python3"
  },
  "language_info": {
   "codemirror_mode": {
    "name": "ipython",
    "version": 3
   },
   "file_extension": ".py",
   "mimetype": "text/x-python",
   "name": "python",
   "nbconvert_exporter": "python",
   "pygments_lexer": "ipython3",
   "version": "3.11.5"
  }
 },
 "nbformat": 4,
 "nbformat_minor": 2
}
