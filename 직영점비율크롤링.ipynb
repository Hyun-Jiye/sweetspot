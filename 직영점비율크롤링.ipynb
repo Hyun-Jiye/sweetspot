{
 "cells": [
  {
   "cell_type": "markdown",
   "id": "6793d676-f128-4ff6-9dfa-da8342f11876",
   "metadata": {},
   "source": [
    "# 직영점 / 가맹점 개수 얻어오기 (전체 / 서울) \n",
    "# logic 설계  \n",
    "- url 접근 o\n",
    "- 업종 -> 외식 선택 o\n",
    "- 검색 o\n",
    "- scroll down o \n",
    "- 상호 클릭 \n",
    "- scroll down  - 안해도 됨. (why? - 동적 크롤링에서 보이지 않으면 error가 떴었는데 왜\n",
    "-  안떠???_) \n",
    "- 받아올 데이터 : 가맹점 수, 직영점 수 , 브랜드명 , 업종 에 대한 데이터 .... (우리가 직접 크롤링 해보고 더블 체크 해보는건????)\n"
   ]
  },
  {
   "cell_type": "code",
   "execution_count": 4,
   "id": "72f3fefb-f1ad-4684-988b-77e6eef92123",
   "metadata": {},
   "outputs": [
    {
     "name": "stdout",
     "output_type": "stream",
     "text": [
      "Collecting selenium\n",
      "  Downloading selenium-4.15.2-py3-none-any.whl.metadata (6.9 kB)\n",
      "Requirement already satisfied: urllib3<3,>=1.26 in /Users/leereh/anaconda3/envs/ssp_ws/lib/python3.11/site-packages (from urllib3[socks]<3,>=1.26->selenium) (2.0.7)\n",
      "Collecting trio~=0.17 (from selenium)\n",
      "  Downloading trio-0.23.1-py3-none-any.whl.metadata (4.9 kB)\n",
      "Collecting trio-websocket~=0.9 (from selenium)\n",
      "  Downloading trio_websocket-0.11.1-py3-none-any.whl.metadata (4.7 kB)\n",
      "Requirement already satisfied: certifi>=2021.10.8 in /Users/leereh/anaconda3/envs/ssp_ws/lib/python3.11/site-packages (from selenium) (2023.11.17)\n",
      "Requirement already satisfied: attrs>=20.1.0 in /Users/leereh/anaconda3/envs/ssp_ws/lib/python3.11/site-packages (from trio~=0.17->selenium) (23.1.0)\n",
      "Collecting sortedcontainers (from trio~=0.17->selenium)\n",
      "  Downloading sortedcontainers-2.4.0-py2.py3-none-any.whl (29 kB)\n",
      "Requirement already satisfied: idna in /Users/leereh/anaconda3/envs/ssp_ws/lib/python3.11/site-packages (from trio~=0.17->selenium) (3.4)\n",
      "Collecting outcome (from trio~=0.17->selenium)\n",
      "  Downloading outcome-1.3.0.post0-py2.py3-none-any.whl.metadata (2.6 kB)\n",
      "Requirement already satisfied: sniffio>=1.3.0 in /Users/leereh/anaconda3/envs/ssp_ws/lib/python3.11/site-packages (from trio~=0.17->selenium) (1.3.0)\n",
      "Collecting wsproto>=0.14 (from trio-websocket~=0.9->selenium)\n",
      "  Downloading wsproto-1.2.0-py3-none-any.whl (24 kB)\n",
      "Collecting pysocks!=1.5.7,<2.0,>=1.5.6 (from urllib3[socks]<3,>=1.26->selenium)\n",
      "  Downloading PySocks-1.7.1-py3-none-any.whl (16 kB)\n",
      "Collecting h11<1,>=0.9.0 (from wsproto>=0.14->trio-websocket~=0.9->selenium)\n",
      "  Downloading h11-0.14.0-py3-none-any.whl (58 kB)\n",
      "\u001b[2K     \u001b[90m━━━━━━━━━━━━━━━━━━━━━━━━━━━━━━━━━━━━━━━━\u001b[0m \u001b[32m58.3/58.3 kB\u001b[0m \u001b[31m1.8 MB/s\u001b[0m eta \u001b[36m0:00:00\u001b[0m\n",
      "\u001b[?25hDownloading selenium-4.15.2-py3-none-any.whl (10.2 MB)\n",
      "\u001b[2K   \u001b[90m━━━━━━━━━━━━━━━━━━━━━━━━━━━━━━━━━━━━━━━━\u001b[0m \u001b[32m10.2/10.2 MB\u001b[0m \u001b[31m11.3 MB/s\u001b[0m eta \u001b[36m0:00:00\u001b[0m00:01\u001b[0m0:01\u001b[0m\n",
      "\u001b[?25hDownloading trio-0.23.1-py3-none-any.whl (448 kB)\n",
      "\u001b[2K   \u001b[90m━━━━━━━━━━━━━━━━━━━━━━━━━━━━━━━━━━━━━━━━\u001b[0m \u001b[32m448.3/448.3 kB\u001b[0m \u001b[31m6.8 MB/s\u001b[0m eta \u001b[36m0:00:00\u001b[0mta \u001b[36m0:00:01\u001b[0m\n",
      "\u001b[?25hDownloading trio_websocket-0.11.1-py3-none-any.whl (17 kB)\n",
      "Downloading outcome-1.3.0.post0-py2.py3-none-any.whl (10 kB)\n",
      "Installing collected packages: sortedcontainers, pysocks, outcome, h11, wsproto, trio, trio-websocket, selenium\n",
      "Successfully installed h11-0.14.0 outcome-1.3.0.post0 pysocks-1.7.1 selenium-4.15.2 sortedcontainers-2.4.0 trio-0.23.1 trio-websocket-0.11.1 wsproto-1.2.0\n"
     ]
    }
   ],
   "source": [
    "#1 . 조작을 워하는 버튼 또는 입력창의 Html파악\n",
    "#2 . find_element_by_css_selector()\n",
    "#    find_element_by_xpath()\n",
    "\n",
    "#3.  click()\n",
    "#    .send_keys()\n",
    "\n",
    "!pip install selenium\n",
    "\n"
   ]
  },
  {
   "cell_type": "code",
   "execution_count": 39,
   "id": "309d6c33-2ac6-4cc5-b298-9c48946257c8",
   "metadata": {},
   "outputs": [],
   "source": [
    "# selenium webdriver를 사용하기 위한 import \n",
    "import selenium\n",
    "from selenium import webdriver\n",
    "#selenium으로 무언인가 입력하기 위한 import \n",
    "from selenium.webdriver.common.keys import Keys\n",
    "from selenium.webdriver.common.by import By\n",
    "#page 로딩을 기다리는데 사용할 time 모듈 import \n",
    "import time \n",
    "#크롬 드라이버 실행\n",
    "driver = webdriver.Chrome()\n",
    "\n",
    "#크롬 드라이버에 url 주소 넣고 실행 \n",
    "driver.get('https://franchise.ftc.go.kr/mnu/00013/program/userRqst/list.do')\n",
    "\n",
    "#페이지 완전히 로딩되도록 3초동안 기다림 \n",
    "time.sleep(3)\n",
    "\n",
    "#드롭다운 외식 클릭 \n",
    "driver.find_element(By.XPATH ,'//*[@id=\"selUpjong\"]/option[2]').click()\n",
    "\n",
    "time.sleep(0.5)\n",
    "\n",
    "#검색 클릭\n",
    "driver.find_element(By.XPATH ,'//*[@id=\"frm\"]/div[1]/fieldset/input[2]').click()\n",
    "\n",
    "#scroll down \n",
    "driver.execute_script(\"window.scrollTo(0, 700)\") \n",
    "\n",
    "#상호명 클릭\n",
    "\n",
    "#scroll down - 어떻게 할지 설정\n",
    "\n",
    "#list 형식으로 전체 / 서울에 대한 가맹 - 직영 개수 가져오기  "
   ]
  },
  {
   "cell_type": "code",
   "execution_count": 40,
   "id": "d0c536ec-ef78-4b0e-bd25-9ff761bb1c17",
   "metadata": {},
   "outputs": [],
   "source": [
    "\n"
   ]
  },
  {
   "cell_type": "code",
   "execution_count": null,
   "id": "15d9c27e-ea93-4fc7-939c-bcf32a6e625c",
   "metadata": {},
   "outputs": [],
   "source": []
  }
 ],
 "metadata": {
  "kernelspec": {
   "display_name": "Python 3 (ipykernel)",
   "language": "python",
   "name": "python3"
  },
  "language_info": {
   "codemirror_mode": {
    "name": "ipython",
    "version": 3
   },
   "file_extension": ".py",
   "mimetype": "text/x-python",
   "name": "python",
   "nbconvert_exporter": "python",
   "pygments_lexer": "ipython3",
   "version": "3.11.5"
  }
 },
 "nbformat": 4,
 "nbformat_minor": 5
}
