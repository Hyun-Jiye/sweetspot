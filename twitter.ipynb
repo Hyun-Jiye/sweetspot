{
 "cells": [
  {
   "cell_type": "code",
   "execution_count": 1,
   "id": "5bc10262-4020-4402-aead-2a06bf71e587",
   "metadata": {},
   "outputs": [],
   "source": [
    "import time\n",
    "import pandas as pd\n",
    "from bs4 import BeautifulSoup\n",
    "from selenium import webdriver\n",
    "from selenium.webdriver.common.by import By\n",
    "from selenium.webdriver.common.keys import Keys\n",
    "from selenium.webdriver.chrome.options import Options\n",
    "from selenium.webdriver.chrome.service import Service\n",
    "from selenium.webdriver.support import expected_conditions\n",
    "from selenium.webdriver.support.ui import WebDriverWait\n",
    "from selenium.common.exceptions import WebDriverException\n",
    "from selenium.common.exceptions import NoSuchElementException"
   ]
  },
  {
   "cell_type": "code",
   "execution_count": 2,
   "id": "58f6600a-5233-4348-ba9e-5952b748e82c",
   "metadata": {},
   "outputs": [],
   "source": [
    "import pyperclip\n",
    "import platform\n",
    "from selenium.webdriver import ActionChains"
   ]
  },
  {
   "cell_type": "code",
   "execution_count": 3,
   "id": "fd2f708d-c144-4c5b-a1dd-e7340ae911a2",
   "metadata": {},
   "outputs": [],
   "source": [
    "# pip install pyperclip"
   ]
  },
  {
   "cell_type": "code",
   "execution_count": 4,
   "id": "b37ba75c-1025-4c59-9369-ba6a57e43156",
   "metadata": {},
   "outputs": [],
   "source": [
    "url = \"https://twitter.com/search?q=%EC%97%AC%EC%9D%98%EB%8F%84%20%23%EC%8A%B9%EC%97%B0%EC%95%84_%EC%9A%B0%EC%A6%88%EC%95%BC_%EC%97%AC%EA%B8%B0%EC%95%BC%20OR%20%23%EC%8B%A0%EB%8F%99_%EB%84%8C%EC%9D%B4%EB%AF%B8%EB%A8%B9%EC%97%88%EA%B2%A0%EC%A7%80%20OR%20%23%EB%B0%95%EC%A7%80%EC%84%B1_%EB%8B%A81g%EB%8F%84%EC%95%88%EC%A4%8C%20OR%20%23%EC%A0%9C%EB%85%B8%EC%9D%98_%EB%A7%9B%EA%B7%B8%EB%8B%B9%EC%96%B4%20OR%20%23%EB%9F%B0%EC%A5%94%EC%9D%B4_%EB%B0%A5%EB%AC%B4%EA%B1%B0%EC%92%80%20OR%20%23%ED%99%95%EC%8B%A0%ED%95%B4%EC%B0%AC%EB%A7%9B%EC%A7%91%20OR%20%23%EB%AA%AC%EB%B2%A0%EB%B2%A0%EA%B0%80_%EB%AA%AC%EB%B2%A0%EB%B2%A0%EC%97%90%EA%B2%8C_%EC%B6%94%EC%B2%9C%ED%95%98%EB%8A%94_%EB%A7%9B%EC%A7%91%20OR%20%23%EB%B0%B1%ED%98%84%EC%9D%B4%EB%A5%BC_%EC%9C%84%ED%95%9C_%EB%A7%9B%EC%A7%91%ED%88%AC%EC%96%B4%20OR%20%23%ED%99%A9%EC%A0%9C%EB%8B%98%EC%9D%84%EC%9C%84%ED%95%9C%EB%A9%94%EB%89%B4%ED%8C%90%20OR%20%23%EA%B0%95%EB%8B%A4%EB%8B%88%EC%97%98_%EC%97%BC%EC%97%BC%EA%B8%8B%20OR%20%23%EC%99%84%EC%A0%84_%EC%9E%A5%EC%9B%90%EC%98%81_%EC%8A%A4%ED%83%80%EC%9D%BC_%EC%95%84%EB%8B%88%EB%83%90%EA%B5%AC%20OR%20%23%E3%84%B7%E3%85%82%E3%85%87%E3%85%88%20OR%20%23%EB%9F%B0%EC%A5%94%EC%9D%B4%EC%9D%98_%EB%A7%9B%EC%A7%91%EB%82%B4%EB%B9%84%EA%B2%8C%EC%9D%B4%EC%85%98%20OR%20%23%EC%8A%B9%EC%B2%A0%EC%9D%B4_%EC%9D%B4%EA%B1%B0%EB%A8%B9%EA%B3%A0_%EB%B3%BC%EB%B9%B5%EB%B9%B5%ED%96%88%EA%BE%B8%EB%A7%88%20OR%20%23%EC%A0%95%ED%95%9C%EC%95%84_%EB%A7%88%EB%8B%88%EB%A8%B8%EA%B1%B0%EC%97%AC%E3%85%8E%E3%85%8E%20OR%20%23%EC%A1%B0%EC%8A%88%EC%95%84_%EB%A8%B9%EC%96%B4%EB%B3%B4%EC%8A%88%EC%95%84%20OR%20%23%EC%88%9C%EC%98%81%EC%95%84_%EC%9D%B4%EA%B1%B0_%EB%A7%9B%EC%9E%88%EC%96%B4%20OR%20%23%EC%9B%90%EC%9A%B0%EC%95%BC_%EC%97%AC%EA%B8%B0_%ED%85%8C%EC%9D%B4%EC%8A%A4%ED%8B%B0%20OR%20%23%EB%AF%BC%EA%B7%9C%EB%9D%BC%EA%B3%A0%EC%B9%98%EA%B3%A0_%EB%94%94%EB%84%88%EC%87%BC%ED%95%B4%EB%8F%84%EB%8F%BC%20OR%20%23%EB%8F%84%EA%B2%B8%EC%9D%B4%EB%8F%84_%EB%8F%84%EC%95%84%ED%95%A0_%EB%A7%9B%EC%A7%91%20OR%20%23%EB%AF%BF%EA%B3%A0%EB%A8%B9%EC%96%B4boo%EC%84%B8%EC%9A%94&src=typed_query\""
   ]
  },
  {
   "cell_type": "code",
   "execution_count": 5,
   "id": "c6fc28b5-4130-472a-8981-97a14f5f36f7",
   "metadata": {},
   "outputs": [],
   "source": [
    "chrome_options = Options()\n",
    "chrome_options.add_experimental_option(\"detach\", True)\n",
    "chrome_options.add_experimental_option(\"excludeSwitches\", [\"enable-logging\"])\n",
    "\n",
    "# chrome_options.add_argument('--headless')\n",
    "# chrome_options.add_argument(\"--incognito\")\n",
    "# chrome_options.add_argument('--disable-gpu')\n",
    "# chrome_options.add_argument('--no-sandbox')\n",
    "# chrome_options.add_argument('--disable-dev-shm-usage')\n",
    "# chrome_options.add_argument(\"--enable-javascript\")\n",
    "\n",
    "chrome_options.add_argument('--user-agent=Mozilla/5.0 (Windows NT 10.0; Win64; x64) AppleWebKit/537.36 (KHTML, like Gecko) Chrome/120.0.0.0 Safari/537.36')"
   ]
  },
  {
   "cell_type": "code",
   "execution_count": 6,
   "id": "11cbe05d-6021-41e5-a6f5-31481ed45137",
   "metadata": {},
   "outputs": [],
   "source": [
    "service = Service(executable_path=r'/Users/leereh/Documents/chromedriver-mac-x64/chromedriver')"
   ]
  },
  {
   "cell_type": "code",
   "execution_count": 7,
   "id": "ac6f1b55-3ba5-430c-8b8e-059f04723821",
   "metadata": {},
   "outputs": [],
   "source": [
    "driver = webdriver.Chrome(service=service, options=chrome_options)"
   ]
  },
  {
   "cell_type": "code",
   "execution_count": 8,
   "id": "9678672a-2cd6-4b5c-9552-1112b2208f23",
   "metadata": {},
   "outputs": [],
   "source": [
    "# driver.get(url)\n",
    "# time.sleep(2)"
   ]
  },
  {
   "cell_type": "code",
   "execution_count": 9,
   "id": "1f2555fd-a241-4b6c-ade7-08b664b9bf12",
   "metadata": {},
   "outputs": [],
   "source": [
    "id = \"hyunjiye0821\"\n",
    "pwd = \"zhdvld2Wkd!\""
   ]
  },
  {
   "cell_type": "code",
   "execution_count": 10,
   "id": "86062c09-356f-44b0-be7c-79ddd2d9eb13",
   "metadata": {},
   "outputs": [],
   "source": [
    "def login(id, pwd, url) :\n",
    "    isSuccess = False\n",
    "    platform.system() # 운영체제 확인\n",
    "    copy_key = ''\n",
    "    if platform.system() == 'Windows' :\n",
    "        copy_key = Keys.CONTROL\n",
    "    else:\n",
    "        copy_key = Keys.COMMAND\n",
    "    driver.get(url)\n",
    "    time.sleep(3)\n",
    "    try:\n",
    "        driver.find_element(By.XPATH,'//*[@id=\"layers\"]/div/div/div/div/div/div/div[2]/div[2]/div/div/div[2]/div[2]/div/div/div/div[5]/label/div/div[2]/div/input').click()\n",
    "        pyperclip.copy(id)\n",
    "        ActionChains(driver).key_down(Keys.CONTROL).send_keys('v').key_up(Keys.CONTROL).perform()\n",
    "        time.sleep(2)\n",
    "        driver.find_element(By.XPATH,\n",
    "                                      '//*[@id=\"layers\"]/div/div/div/div/div/div/div[2]/div[2]/div/div/div[2]/div[2]/div/div/div/div[6]/div').click()\n",
    "        \n",
    "        time.sleep(3)\n",
    "        driver.find_element(By.XPATH,'//*[@id=\"layers\"]/div/div/div/div/div/div/div[2]/div[2]/div/div/div[2]/div[2]/div[1]/div/div/div[3]/div/label/div/div[2]/div[1]/input').click()\n",
    "        pyperclip.copy(pwd) \n",
    "        ActionChains(driver).key_down(Keys.CONTROL).send_keys('v').key_up(Keys.CONTROL).perform()\n",
    "        try:\n",
    "            login_btn = driver.find_element(By.XPATH , '//*[@id=\"layers\"]/div/div/div/div/div/div/div[2]/div[2]/div/div/div[2]/div[2]/div[2]/div/div[1]/div/div/div/div/span/span')\n",
    "            login_btn.click()\n",
    "            time.sleep(3)\n",
    "            isSuccess = True\n",
    "        except Exception as e:\n",
    "            print(f\"twitter submit, cookies save failed : {e}\")\n",
    "            pass\n",
    "    except Exception as e:\n",
    "        print(f\"twitter login input id, password failed : {e}\")\n",
    "        isSuccess = True\n",
    "        pass\n",
    "    \n",
    "    driver.find_element(By.XPATH, \"//*[@id='layers']/div/div/div/div/div/div/div[2]/div[2]/div/div/div[2]/div[2]/div/div/div/div[5]/label/div/div[2]/div/input\").click()\n",
    "    driver.find_element(By.XPATH, \"//*[@id='layers']/div/div/div/div/div/div/div[2]/div[2]/div/div/div[2]/div[2]/div/div/div/div[5]/label/div/div[2]/div/input\").send_keys(id)\n",
    "    driver.find_element(By.XPATH, \"//*[@id='layers']/div/div/div/div/div/div/div[2]/div[2]/div/div/div[2]/div[2]/div/div/div/div[6]/div\").click()\n",
    "    time.sleep(2)\n",
    "    driver.find_element(By.XPATH, \"//*[@id='layers']/div/div/div/div/div/div/div[2]/div[2]/div/div/div[2]/div[2]/div[1]/div/div/div[3]/div/label/div/div[2]/div[1]/input\").send_keys(pwd)\n",
    "    driver.find_element(By.XPATH, \"//*[@id='layers']/div/div/div/div/div/div/div[2]/div[2]/div/div/div[2]/div[2]/div[2]/div/div[1]/div/div/div/div/span/span\").click()\n",
    "      \n",
    "    return isSuccess\n",
    "    "
   ]
  },
  {
   "cell_type": "code",
   "execution_count": 11,
   "id": "7d9aa589-683e-4369-a574-0c537e813e4b",
   "metadata": {},
   "outputs": [
    {
     "name": "stdout",
     "output_type": "stream",
     "text": [
      "twitter login input id, password failed : Message: no such element: Unable to locate element: {\"method\":\"xpath\",\"selector\":\"//*[@id=\"layers\"]/div/div/div/div/div/div/div[2]/div[2]/div/div/div[2]/div[2]/div[1]/div/div/div[3]/div/label/div/div[2]/div[1]/input\"}\n",
      "  (Session info: chrome=120.0.6099.71); For documentation on this error, please visit: https://www.selenium.dev/documentation/webdriver/troubleshooting/errors#no-such-element-exception\n",
      "Stacktrace:\n",
      "0   chromedriver                        0x0000000109d14c48 chromedriver + 4852808\n",
      "1   chromedriver                        0x0000000109d0c1b3 chromedriver + 4817331\n",
      "2   chromedriver                        0x00000001098d87bd chromedriver + 411581\n",
      "3   chromedriver                        0x0000000109928e30 chromedriver + 740912\n",
      "4   chromedriver                        0x0000000109928fe1 chromedriver + 741345\n",
      "5   chromedriver                        0x0000000109974864 chromedriver + 1050724\n",
      "6   chromedriver                        0x0000000109952c2d chromedriver + 912429\n",
      "7   chromedriver                        0x0000000109971ae2 chromedriver + 1039074\n",
      "8   chromedriver                        0x00000001099529a3 chromedriver + 911779\n",
      "9   chromedriver                        0x000000010991a103 chromedriver + 680195\n",
      "10  chromedriver                        0x000000010991b71e chromedriver + 685854\n",
      "11  chromedriver                        0x0000000109cd4792 chromedriver + 4589458\n",
      "12  chromedriver                        0x0000000109cd999c chromedriver + 4610460\n",
      "13  chromedriver                        0x0000000109cb9cb1 chromedriver + 4480177\n",
      "14  chromedriver                        0x0000000109cda716 chromedriver + 4613910\n",
      "15  chromedriver                        0x0000000109cab23c chromedriver + 4420156\n",
      "16  chromedriver                        0x0000000109cfa798 chromedriver + 4745112\n",
      "17  chromedriver                        0x0000000109cfa94e chromedriver + 4745550\n",
      "18  chromedriver                        0x0000000109d0bdf3 chromedriver + 4816371\n",
      "19  libsystem_pthread.dylib             0x00007ff814f2b202 _pthread_start + 99\n",
      "20  libsystem_pthread.dylib             0x00007ff814f26bab thread_start + 15\n",
      "\n"
     ]
    },
    {
     "data": {
      "text/plain": [
       "True"
      ]
     },
     "execution_count": 11,
     "metadata": {},
     "output_type": "execute_result"
    }
   ],
   "source": [
    "login(id,pwd,url)"
   ]
  },
  {
   "cell_type": "code",
   "execution_count": 12,
   "id": "b625acf5-a9e0-4f89-aa59-ba999bbbbc59",
   "metadata": {},
   "outputs": [
    {
     "ename": "NoSuchElementException",
     "evalue": "Message: no such element: Unable to locate element: {\"method\":\"xpath\",\"selector\":\"//*[@id='layers']/div/div/div/div/div/div/div[2]/div[2]/div/div/div[2]/div[2]/div/div/div/div[5]/label/div/div[2]/div/input\"}\n  (Session info: chrome=120.0.6099.71); For documentation on this error, please visit: https://www.selenium.dev/documentation/webdriver/troubleshooting/errors#no-such-element-exception\nStacktrace:\n0   chromedriver                        0x0000000109d14c48 chromedriver + 4852808\n1   chromedriver                        0x0000000109d0c1b3 chromedriver + 4817331\n2   chromedriver                        0x00000001098d87bd chromedriver + 411581\n3   chromedriver                        0x0000000109928e30 chromedriver + 740912\n4   chromedriver                        0x0000000109928fe1 chromedriver + 741345\n5   chromedriver                        0x0000000109974864 chromedriver + 1050724\n6   chromedriver                        0x0000000109952c2d chromedriver + 912429\n7   chromedriver                        0x0000000109971ae2 chromedriver + 1039074\n8   chromedriver                        0x00000001099529a3 chromedriver + 911779\n9   chromedriver                        0x000000010991a103 chromedriver + 680195\n10  chromedriver                        0x000000010991b71e chromedriver + 685854\n11  chromedriver                        0x0000000109cd4792 chromedriver + 4589458\n12  chromedriver                        0x0000000109cd999c chromedriver + 4610460\n13  chromedriver                        0x0000000109cb9cb1 chromedriver + 4480177\n14  chromedriver                        0x0000000109cda716 chromedriver + 4613910\n15  chromedriver                        0x0000000109cab23c chromedriver + 4420156\n16  chromedriver                        0x0000000109cfa798 chromedriver + 4745112\n17  chromedriver                        0x0000000109cfa94e chromedriver + 4745550\n18  chromedriver                        0x0000000109d0bdf3 chromedriver + 4816371\n19  libsystem_pthread.dylib             0x00007ff814f2b202 _pthread_start + 99\n20  libsystem_pthread.dylib             0x00007ff814f26bab thread_start + 15\n",
     "output_type": "error",
     "traceback": [
      "\u001b[0;31m---------------------------------------------------------------------------\u001b[0m",
      "\u001b[0;31mNoSuchElementException\u001b[0m                    Traceback (most recent call last)",
      "Cell \u001b[0;32mIn[12], line 1\u001b[0m\n\u001b[0;32m----> 1\u001b[0m \u001b[43mdriver\u001b[49m\u001b[38;5;241;43m.\u001b[39;49m\u001b[43mfind_element\u001b[49m\u001b[43m(\u001b[49m\u001b[43mBy\u001b[49m\u001b[38;5;241;43m.\u001b[39;49m\u001b[43mXPATH\u001b[49m\u001b[43m,\u001b[49m\u001b[43m \u001b[49m\u001b[38;5;124;43m\"\u001b[39;49m\u001b[38;5;124;43m//*[@id=\u001b[39;49m\u001b[38;5;124;43m'\u001b[39;49m\u001b[38;5;124;43mlayers\u001b[39;49m\u001b[38;5;124;43m'\u001b[39;49m\u001b[38;5;124;43m]/div/div/div/div/div/div/div[2]/div[2]/div/div/div[2]/div[2]/div/div/div/div[5]/label/div/div[2]/div/input\u001b[39;49m\u001b[38;5;124;43m\"\u001b[39;49m\u001b[43m)\u001b[49m\u001b[38;5;241m.\u001b[39msend_keys(\u001b[38;5;28mid\u001b[39m)\n",
      "File \u001b[0;32m~/anaconda3/envs/ssp_ws/lib/python3.11/site-packages/selenium/webdriver/remote/webdriver.py:741\u001b[0m, in \u001b[0;36mWebDriver.find_element\u001b[0;34m(self, by, value)\u001b[0m\n\u001b[1;32m    738\u001b[0m     by \u001b[38;5;241m=\u001b[39m By\u001b[38;5;241m.\u001b[39mCSS_SELECTOR\n\u001b[1;32m    739\u001b[0m     value \u001b[38;5;241m=\u001b[39m \u001b[38;5;124mf\u001b[39m\u001b[38;5;124m'\u001b[39m\u001b[38;5;124m[name=\u001b[39m\u001b[38;5;124m\"\u001b[39m\u001b[38;5;132;01m{\u001b[39;00mvalue\u001b[38;5;132;01m}\u001b[39;00m\u001b[38;5;124m\"\u001b[39m\u001b[38;5;124m]\u001b[39m\u001b[38;5;124m'\u001b[39m\n\u001b[0;32m--> 741\u001b[0m \u001b[38;5;28;01mreturn\u001b[39;00m \u001b[38;5;28;43mself\u001b[39;49m\u001b[38;5;241;43m.\u001b[39;49m\u001b[43mexecute\u001b[49m\u001b[43m(\u001b[49m\u001b[43mCommand\u001b[49m\u001b[38;5;241;43m.\u001b[39;49m\u001b[43mFIND_ELEMENT\u001b[49m\u001b[43m,\u001b[49m\u001b[43m \u001b[49m\u001b[43m{\u001b[49m\u001b[38;5;124;43m\"\u001b[39;49m\u001b[38;5;124;43musing\u001b[39;49m\u001b[38;5;124;43m\"\u001b[39;49m\u001b[43m:\u001b[49m\u001b[43m \u001b[49m\u001b[43mby\u001b[49m\u001b[43m,\u001b[49m\u001b[43m \u001b[49m\u001b[38;5;124;43m\"\u001b[39;49m\u001b[38;5;124;43mvalue\u001b[39;49m\u001b[38;5;124;43m\"\u001b[39;49m\u001b[43m:\u001b[49m\u001b[43m \u001b[49m\u001b[43mvalue\u001b[49m\u001b[43m}\u001b[49m\u001b[43m)\u001b[49m[\u001b[38;5;124m\"\u001b[39m\u001b[38;5;124mvalue\u001b[39m\u001b[38;5;124m\"\u001b[39m]\n",
      "File \u001b[0;32m~/anaconda3/envs/ssp_ws/lib/python3.11/site-packages/selenium/webdriver/remote/webdriver.py:347\u001b[0m, in \u001b[0;36mWebDriver.execute\u001b[0;34m(self, driver_command, params)\u001b[0m\n\u001b[1;32m    345\u001b[0m response \u001b[38;5;241m=\u001b[39m \u001b[38;5;28mself\u001b[39m\u001b[38;5;241m.\u001b[39mcommand_executor\u001b[38;5;241m.\u001b[39mexecute(driver_command, params)\n\u001b[1;32m    346\u001b[0m \u001b[38;5;28;01mif\u001b[39;00m response:\n\u001b[0;32m--> 347\u001b[0m     \u001b[38;5;28;43mself\u001b[39;49m\u001b[38;5;241;43m.\u001b[39;49m\u001b[43merror_handler\u001b[49m\u001b[38;5;241;43m.\u001b[39;49m\u001b[43mcheck_response\u001b[49m\u001b[43m(\u001b[49m\u001b[43mresponse\u001b[49m\u001b[43m)\u001b[49m\n\u001b[1;32m    348\u001b[0m     response[\u001b[38;5;124m\"\u001b[39m\u001b[38;5;124mvalue\u001b[39m\u001b[38;5;124m\"\u001b[39m] \u001b[38;5;241m=\u001b[39m \u001b[38;5;28mself\u001b[39m\u001b[38;5;241m.\u001b[39m_unwrap_value(response\u001b[38;5;241m.\u001b[39mget(\u001b[38;5;124m\"\u001b[39m\u001b[38;5;124mvalue\u001b[39m\u001b[38;5;124m\"\u001b[39m, \u001b[38;5;28;01mNone\u001b[39;00m))\n\u001b[1;32m    349\u001b[0m     \u001b[38;5;28;01mreturn\u001b[39;00m response\n",
      "File \u001b[0;32m~/anaconda3/envs/ssp_ws/lib/python3.11/site-packages/selenium/webdriver/remote/errorhandler.py:229\u001b[0m, in \u001b[0;36mErrorHandler.check_response\u001b[0;34m(self, response)\u001b[0m\n\u001b[1;32m    227\u001b[0m         alert_text \u001b[38;5;241m=\u001b[39m value[\u001b[38;5;124m\"\u001b[39m\u001b[38;5;124malert\u001b[39m\u001b[38;5;124m\"\u001b[39m]\u001b[38;5;241m.\u001b[39mget(\u001b[38;5;124m\"\u001b[39m\u001b[38;5;124mtext\u001b[39m\u001b[38;5;124m\"\u001b[39m)\n\u001b[1;32m    228\u001b[0m     \u001b[38;5;28;01mraise\u001b[39;00m exception_class(message, screen, stacktrace, alert_text)  \u001b[38;5;66;03m# type: ignore[call-arg]  # mypy is not smart enough here\u001b[39;00m\n\u001b[0;32m--> 229\u001b[0m \u001b[38;5;28;01mraise\u001b[39;00m exception_class(message, screen, stacktrace)\n",
      "\u001b[0;31mNoSuchElementException\u001b[0m: Message: no such element: Unable to locate element: {\"method\":\"xpath\",\"selector\":\"//*[@id='layers']/div/div/div/div/div/div/div[2]/div[2]/div/div/div[2]/div[2]/div/div/div/div[5]/label/div/div[2]/div/input\"}\n  (Session info: chrome=120.0.6099.71); For documentation on this error, please visit: https://www.selenium.dev/documentation/webdriver/troubleshooting/errors#no-such-element-exception\nStacktrace:\n0   chromedriver                        0x0000000109d14c48 chromedriver + 4852808\n1   chromedriver                        0x0000000109d0c1b3 chromedriver + 4817331\n2   chromedriver                        0x00000001098d87bd chromedriver + 411581\n3   chromedriver                        0x0000000109928e30 chromedriver + 740912\n4   chromedriver                        0x0000000109928fe1 chromedriver + 741345\n5   chromedriver                        0x0000000109974864 chromedriver + 1050724\n6   chromedriver                        0x0000000109952c2d chromedriver + 912429\n7   chromedriver                        0x0000000109971ae2 chromedriver + 1039074\n8   chromedriver                        0x00000001099529a3 chromedriver + 911779\n9   chromedriver                        0x000000010991a103 chromedriver + 680195\n10  chromedriver                        0x000000010991b71e chromedriver + 685854\n11  chromedriver                        0x0000000109cd4792 chromedriver + 4589458\n12  chromedriver                        0x0000000109cd999c chromedriver + 4610460\n13  chromedriver                        0x0000000109cb9cb1 chromedriver + 4480177\n14  chromedriver                        0x0000000109cda716 chromedriver + 4613910\n15  chromedriver                        0x0000000109cab23c chromedriver + 4420156\n16  chromedriver                        0x0000000109cfa798 chromedriver + 4745112\n17  chromedriver                        0x0000000109cfa94e chromedriver + 4745550\n18  chromedriver                        0x0000000109d0bdf3 chromedriver + 4816371\n19  libsystem_pthread.dylib             0x00007ff814f2b202 _pthread_start + 99\n20  libsystem_pthread.dylib             0x00007ff814f26bab thread_start + 15\n"
     ]
    }
   ],
   "source": [
    "driver.find_element(By.XPATH, \"//*[@id='layers']/div/div/div/div/div/div/div[2]/div[2]/div/div/div[2]/div[2]/div/div/div/div[5]/label/div/div[2]/div/input\").send_keys(id)"
   ]
  },
  {
   "cell_type": "code",
   "execution_count": null,
   "id": "3044a0d0-e1b4-436b-8b74-54a6cca75687",
   "metadata": {},
   "outputs": [],
   "source": [
    "driver.find_element(By.XPATH, \"//*[@id='layers']/div/div/div/div/div/div/div[2]/div[2]/div/div/div[2]/div[2]/div/div/div/div[6]/div\").click()"
   ]
  },
  {
   "cell_type": "code",
   "execution_count": null,
   "id": "efeb5504-2775-46a1-ba79-1480f6fe33ce",
   "metadata": {},
   "outputs": [],
   "source": [
    "driver.find_element(By.XPATH, \"//*[@id='layers']/div/div/div/div/div/div/div[2]/div[2]/div/div/div[2]/div[2]/div[1]/div/div/div[3]/div/label/div/div[2]/div[1]/input\").send_keys(pwd)"
   ]
  },
  {
   "cell_type": "code",
   "execution_count": null,
   "id": "253ed70d-2a9b-4bde-84b5-5c9d112961ee",
   "metadata": {},
   "outputs": [],
   "source": [
    "driver.find_element(By.XPATH, \"//*[@id='layers']/div/div/div/div/div/div/div[2]/div[2]/div/div/div[2]/div[2]/div[2]/div/div[1]/div/div/div/div/span/span\").click()"
   ]
  },
  {
   "cell_type": "code",
   "execution_count": null,
   "id": "69bb4fec-4f18-41ab-afec-f63ce6ad6aa8",
   "metadata": {},
   "outputs": [],
   "source": [
    "# # test \n",
    "# scroll_location = driver.execute_script(\"return window.pageYOffset\") \n",
    "# driver.execute_script(\"window.scrollTo(0,{})\".format(scroll_location + 2000))\n",
    "# scroll_location = driver.execute_script(\"return window.pageYOffset\") \n",
    "# scroll_location\n",
    "\n"
   ]
  },
  {
   "cell_type": "code",
   "execution_count": null,
   "id": "c76f3b54-0ffe-4f4e-aa7a-6e7efbe23c7a",
   "metadata": {},
   "outputs": [],
   "source": [
    "scroll_height = 0\n",
    "scroll_location = driver.execute_script(\"return window.pageYOffset\") #현재 스크롤 좌표 추출 \n",
    "twitt = []\n",
    "while True:\n",
    "    if scroll_location == scroll_height : #마지막 도달 \n",
    "        break\n",
    "\n",
    "\n",
    "    else : \n",
    "        scroll_location = driver.execute_script(\"return window.pageYOffset\")\n",
    "        html_content = driver.page_source\n",
    "        soup = BeautifulSoup(html_content, 'html.parser')\n",
    "        posts = soup.find_all(attrs = {\"data-testid\" : \"tweetText\"})\n",
    "\n",
    "        for post in posts :\n",
    "            if post.text not in twitt:\n",
    "                twitt.appned(post.text)\n",
    "                print(post.text)\n",
    "                print(\"-\" * 50)\n",
    "            else :\n",
    "                pass\n",
    "    execute_script(\"window.scrollTo(0,{})\".format(scroll_location + 2000))\n",
    "    time.sleep(3)\n",
    "    scroll_height = driver.execute_script(\"return window.pageYOffset\") # 현재 좌표로 \n",
    "    \n",
    "\n"
   ]
  },
  {
   "cell_type": "code",
   "execution_count": null,
   "id": "34650488-5980-4fb5-9dc3-5070ca2c8293",
   "metadata": {},
   "outputs": [],
   "source": [
    "data"
   ]
  },
  {
   "cell_type": "code",
   "execution_count": null,
   "id": "65cafec3-e378-4b2a-addb-2d04bdc895c0",
   "metadata": {},
   "outputs": [],
   "source": []
  },
  {
   "cell_type": "markdown",
   "id": "436ff910-f35c-41a6-9c9c-b3ad1c5db43b",
   "metadata": {},
   "source": [
    "while True:\n",
    "    try:\n",
    "        html_content = driver.page_source\n",
    "        soup = BeautifulSoup(html_content, 'html.parser')\n",
    "        posts = soup.find_all(attrs={\"data-testid\": \"tweetText\"})\n",
    "        print(posts)\n",
    "        print(\"-\" * 50)\n",
    "        \n",
    "    except NoSuchElementException as e:\n",
    "        print(\"요소를 찾지 못했습니다.\")\n",
    "        continue"
   ]
  },
  {
   "cell_type": "markdown",
   "id": "47ac2c2c-8fc1-4cea-ae6a-e4581d780b08",
   "metadata": {},
   "source": [
    "i = 1\n",
    "scroll_location = driver.execute_script(\"return window.pageYOffset\")\n",
    "\n",
    "while True:\n",
    "    try:\n",
    "        context = driver.find_element(By.XPATH, \"/html/body/div[1]/div/div/div[2]/main/div/div/div/div/div/div[3]/section/div/div/div[{0}]/div/div/article/div/div/div[2]/div[2]/div[2]/div\".format(i)).text\n",
    "        print(context)\n",
    "        print(\"-\" * 50)\n",
    "        \n",
    "    except NoSuchElementException as e:\n",
    "        print(\"요소를 찾지 못했습니다.\", e)\n",
    "        continue\n",
    "        \n",
    "    driver.execute_script(\"window.scrollTo(0,{})\".format(scroll_location + 400))\n",
    "    time.sleep(1)\n",
    "    scroll_height = driver.execute_script(\"return window.pageYOffset\")\n",
    "        \n",
    "    if scroll_location == scroll_height:\n",
    "        break\n",
    "            \n",
    "    else:\n",
    "        scroll_location = driver.execute_script(\"return window.pageYOffset\")\n",
    "    \n",
    "    i += 1"
   ]
  },
  {
   "cell_type": "markdown",
   "id": "65e2357f-acc2-42ce-ad79-14d0b2818763",
   "metadata": {},
   "source": [
    "t_list = []\n",
    "    \n",
    "try:\n",
    "    driver.find_element(By.XPATH, \"//*[@id='frm']/div[3]/div/ul/li[{0}]/a\".format(i+4)).click()\n",
    "\n",
    "except NoSuchElementException as e:\n",
    "    print(\"요소를 찾지 못했습니다.\", e)\n",
    "\n",
    "time.sleep(2)"
   ]
  },
  {
   "cell_type": "code",
   "execution_count": null,
   "id": "91398f2f-1717-49fc-b4d8-219cd7d1cab7",
   "metadata": {},
   "outputs": [],
   "source": []
  }
 ],
 "metadata": {
  "kernelspec": {
   "display_name": "Python 3 (ipykernel)",
   "language": "python",
   "name": "python3"
  },
  "language_info": {
   "codemirror_mode": {
    "name": "ipython",
    "version": 3
   },
   "file_extension": ".py",
   "mimetype": "text/x-python",
   "name": "python",
   "nbconvert_exporter": "python",
   "pygments_lexer": "ipython3",
   "version": "3.11.5"
  }
 },
 "nbformat": 4,
 "nbformat_minor": 5
}
